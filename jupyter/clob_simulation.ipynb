{
 "cells": [
  {
   "cell_type": "code",
   "execution_count": 2,
   "id": "f38b4dbb",
   "metadata": {},
   "outputs": [],
   "source": [
    "import gzip\n",
    "import json\n",
    "\n",
    "def messages_parse(data):\n",
    "    data_with_no_binary = str(data).split(\"'\")[1:-1][0]\n",
    "    data_list =[i for i in data_with_no_binary.split('\\\\n') if i != '']\n",
    "    messages_data = [json.loads(D) for D in data_list]\n",
    "    return messages_data \n",
    "\n",
    "def messages_read(file=\"../data/coinbase_BTC-USD_20_10_06_000000-010000.json.gz\"):\n",
    "    file_object = gzip.open(file, \"r\")\n",
    "    data = file_object.read()\n",
    "    messages_data = messages_parse(data)\n",
    "    return messages_data \n",
    "\n",
    "\n",
    "def snapshot_read(file=\"../data/coinbase_BTC-USD_20_10_06_00_00.json\"):\n",
    "    snaphsot_data = json.loads(open(file,'r').read())\n",
    "    return snaphsot_data\n",
    "\n",
    "messages_data = messages_read()\n",
    "initial_clob = snapshot_read(file=\"../data/coinbase_BTC-USD_20_10_06_00_00.json\")\n",
    "final_clob = snapshot_read(file=\"../data/coinbase_BTC-USD_20_10_06_00_15.json\")"
   ]
  },
  {
   "cell_type": "code",
   "execution_count": 8,
   "id": "17b53ad0",
   "metadata": {},
   "outputs": [],
   "source": [
    "def messages_filter(messages_data,initial_clob,final_clob):\n",
    "    messages_data_filtered = [message_dict for message_dict in messages_data if message_dict['sequence'] >= initial_clob['sequence'] and message_dict['sequence'] <= final_clob['sequence']]\n",
    "    return messages_data_filtered\n",
    "                                                                                        \n",
    "messages_data_filtered = messages_filter(messages_data,initial_clob,final_clob)\n",
    "\n",
    "                                                                                        \n",
    "                                                                                    "
   ]
  },
  {
   "cell_type": "code",
   "execution_count": 9,
   "id": "9220c53f",
   "metadata": {},
   "outputs": [
    {
     "name": "stdout",
     "output_type": "stream",
     "text": [
      "1086672\n",
      "252618\n"
     ]
    }
   ],
   "source": [
    "print (len(messages_data))\n",
    "print (len(messages_data_filtered))"
   ]
  },
  {
   "cell_type": "code",
   "execution_count": 4,
   "id": "f0bb4790",
   "metadata": {},
   "outputs": [
    {
     "name": "stdout",
     "output_type": "stream",
     "text": [
      "{'type': 'done', 'side': 'sell', 'product_id': 'BTC-USD', 'time': '2020-10-06T00:00:00.021717Z', 'sequence': 16712803594, 'order_id': '0e612005-8b3c-4b34-a2db-eadc20afc95e', 'reason': 'canceled', 'price': '10802.46', 'remaining_size': '0.25'}\n",
      "dict_keys(['bids', 'asks', 'sequence'])\n",
      "dict_keys(['bids', 'asks', 'sequence'])\n"
     ]
    }
   ],
   "source": [
    "print (messages_data[0])\n",
    "print (initial_clob.keys())\n",
    "print (final_clob.keys())"
   ]
  },
  {
   "cell_type": "code",
   "execution_count": 27,
   "id": "90877ef5",
   "metadata": {},
   "outputs": [
    {
     "data": {
      "text/plain": [
       "{'type': 'open',\n",
       " 'side': 'buy',\n",
       " 'product_id': 'BTC-USD',\n",
       " 'time': '2020-10-06T00:00:05.860994Z',\n",
       " 'sequence': 16712805003,\n",
       " 'price': '10778.91',\n",
       " 'order_id': '5cee9745-3cfa-46ee-b48d-31511a163ae7',\n",
       " 'remaining_size': '1.31839767'}"
      ]
     },
     "execution_count": 27,
     "metadata": {},
     "output_type": "execute_result"
    }
   ],
   "source": [
    "messages_data_filtered[100]"
   ]
  },
  {
   "cell_type": "code",
   "execution_count": 24,
   "id": "bc0c85f7",
   "metadata": {},
   "outputs": [
    {
     "data": {
      "text/plain": [
       "[]"
      ]
     },
     "execution_count": 24,
     "metadata": {},
     "output_type": "execute_result"
    }
   ],
   "source": [
    "\n",
    "filter_order_id = lambda array,order_id: [D for D in array if 'order_id' in D.keys() and D['order_id'] ==order_id]\n",
    "filter_order_id(messages_data_filtered,\"19b9d70e-8821-4846-ba72-ce5eeba2feaa\")\n"
   ]
  },
  {
   "cell_type": "code",
   "execution_count": 23,
   "id": "712e1742",
   "metadata": {},
   "outputs": [
    {
     "data": {
      "text/plain": [
       "[]"
      ]
     },
     "execution_count": 23,
     "metadata": {},
     "output_type": "execute_result"
    }
   ],
   "source": [
    "filter_order_id = lambda clob,asks_or_bids,order_id: [subli for subli in clob[asks_or_bids] if subli[2] == order_id]\n",
    "filter_order_id(final_clob,'asks','d98e69bd-aa7c-40ec-8c34-5087c20b86bd')"
   ]
  },
  {
   "cell_type": "code",
   "execution_count": 16,
   "id": "c03f5d04",
   "metadata": {},
   "outputs": [
    {
     "data": {
      "text/plain": [
       "1077"
      ]
     },
     "execution_count": 16,
     "metadata": {},
     "output_type": "execute_result"
    }
   ],
   "source": [
    "len([message_dict for message_dict in messages_data_filtered if 'order_id' not in message_dict.keys()])"
   ]
  },
  {
   "cell_type": "code",
   "execution_count": 17,
   "id": "1d9a77b2",
   "metadata": {},
   "outputs": [
    {
     "ename": "ModuleNotFoundError",
     "evalue": "No module named 'pandas'",
     "output_type": "error",
     "traceback": [
      "\u001b[0;31m---------------------------------------------------------------------------\u001b[0m",
      "\u001b[0;31mModuleNotFoundError\u001b[0m                       Traceback (most recent call last)",
      "\u001b[0;32m/var/folders/00/xr38cr8n7xd8vz3n5831t62m0000gn/T/ipykernel_12130/4080736814.py\u001b[0m in \u001b[0;36m<module>\u001b[0;34m\u001b[0m\n\u001b[0;32m----> 1\u001b[0;31m \u001b[0;32mimport\u001b[0m \u001b[0mpandas\u001b[0m \u001b[0;32mas\u001b[0m \u001b[0mpd\u001b[0m\u001b[0;34m\u001b[0m\u001b[0;34m\u001b[0m\u001b[0m\n\u001b[0m",
      "\u001b[0;31mModuleNotFoundError\u001b[0m: No module named 'pandas'"
     ]
    }
   ],
   "source": [
    "import pandas as pd"
   ]
  },
  {
   "cell_type": "code",
   "execution_count": null,
   "id": "85d9291b",
   "metadata": {},
   "outputs": [],
   "source": []
  }
 ],
 "metadata": {
  "kernelspec": {
   "display_name": "Python 3 (ipykernel)",
   "language": "python",
   "name": "python3"
  },
  "language_info": {
   "codemirror_mode": {
    "name": "ipython",
    "version": 3
   },
   "file_extension": ".py",
   "mimetype": "text/x-python",
   "name": "python",
   "nbconvert_exporter": "python",
   "pygments_lexer": "ipython3",
   "version": "3.10.0"
  }
 },
 "nbformat": 4,
 "nbformat_minor": 5
}
