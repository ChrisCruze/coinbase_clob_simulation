{
 "cells": [
  {
   "cell_type": "code",
   "execution_count": 2,
   "id": "f38b4dbb",
   "metadata": {},
   "outputs": [],
   "source": [
    "import gzip\n",
    "import json\n",
    "\n",
    "def messages_parse(data):\n",
    "    data_with_no_binary = str(data).split(\"'\")[1:-1][0]\n",
    "    data_list =[i for i in data_with_no_binary.split('\\\\n') if i != '']\n",
    "    messages_data = [json.loads(D) for D in data_list]\n",
    "    return messages_data \n",
    "\n",
    "def messages_read(file=\"../data/coinbase_BTC-USD_20_10_06_000000-010000.json.gz\"):\n",
    "    file_object = gzip.open(file, \"r\")\n",
    "    data = file_object.read()\n",
    "    messages_data = messages_parse(data)\n",
    "    return messages_data \n",
    "\n",
    "\n",
    "def snapshot_read(file=\"../data/coinbase_BTC-USD_20_10_06_00_00.json\"):\n",
    "    snaphsot_data = json.loads(open(file,'r').read())\n",
    "    return snaphsot_data\n",
    "\n",
    "messages_data = messages_read()\n",
    "initial_clob = snapshot_read(file=\"../data/coinbase_BTC-USD_20_10_06_00_00.json\")\n",
    "final_clob = snapshot_read(file=\"../data/coinbase_BTC-USD_20_10_06_00_15.json\")"
   ]
  },
  {
   "cell_type": "code",
   "execution_count": 8,
   "id": "17b53ad0",
   "metadata": {},
   "outputs": [],
   "source": [
    "def messages_filter(messages_data,initial_clob,final_clob):\n",
    "    messages_data_filtered = [message_dict for message_dict in messages_data if message_dict['sequence'] >= initial_clob['sequence'] and message_dict['sequence'] <= final_clob['sequence']]\n",
    "    return messages_data_filtered\n",
    "                                                                                        \n",
    "messages_data_filtered = messages_filter(messages_data,initial_clob,final_clob)\n",
    "\n",
    "                                                                                        \n",
    "                                                                                    "
   ]
  },
  {
   "cell_type": "code",
   "execution_count": 9,
   "id": "9220c53f",
   "metadata": {},
   "outputs": [
    {
     "name": "stdout",
     "output_type": "stream",
     "text": [
      "1086672\n",
      "252618\n"
     ]
    }
   ],
   "source": [
    "print (len(messages_data))\n",
    "print (len(messages_data_filtered))"
   ]
  },
  {
   "cell_type": "code",
   "execution_count": 4,
   "id": "f0bb4790",
   "metadata": {},
   "outputs": [
    {
     "name": "stdout",
     "output_type": "stream",
     "text": [
      "{'type': 'done', 'side': 'sell', 'product_id': 'BTC-USD', 'time': '2020-10-06T00:00:00.021717Z', 'sequence': 16712803594, 'order_id': '0e612005-8b3c-4b34-a2db-eadc20afc95e', 'reason': 'canceled', 'price': '10802.46', 'remaining_size': '0.25'}\n",
      "dict_keys(['bids', 'asks', 'sequence'])\n",
      "dict_keys(['bids', 'asks', 'sequence'])\n"
     ]
    }
   ],
   "source": [
    "print (messages_data[0])\n",
    "print (initial_clob.keys())\n",
    "print (final_clob.keys())"
   ]
  },
  {
   "cell_type": "code",
   "execution_count": 28,
   "id": "5c1b9159",
   "metadata": {},
   "outputs": [
    {
     "name": "stdout",
     "output_type": "stream",
     "text": [
      "[['10792.35', '3.1', '642537c6-d66f-4bcc-8a00-6ee2ad422b27'], ['10791.06', '0.5', '4b90fe46-315a-4e58-9e2c-87221275e6f2'], ['10791.03', '3.1', '15222e4c-59dd-479a-bc53-8c83ff1567ca'], ['10790.82', '0.501', '975388db-5dbd-4dbe-9d40-b4949902cecd'], ['10790.35', '0.01345822', '21dd930a-e507-4a27-b30e-9b947dd6bb8c'], ['10790.18', '0.1829', 'd5180194-e2a8-4413-8914-76c46f461c3d'], ['10790.07', '0.2', 'df21a9d1-bf62-42f5-8b75-b25d0a85aaa4'], ['10789.62', '0.27620805', '81f030eb-ab66-466f-8d3c-2466671a55f7'], ['10789.61', '3.1', '94b394b7-62dd-4510-9fee-7f2a081da10d'], ['10789.6', '3.1', '45971a7b-7921-4a60-840e-e14c8d1d7066'], ['10789.32', '0.5', '882b598a-1aac-405b-88d2-a652d6393e85'], ['10789.18', '3.1', 'c5fd4f7c-d1f9-4848-aafe-54712e0371cf'], ['10788.94', '3.1', 'db0737ad-8b00-4224-a806-25129ea0ac9f'], ['10788.93', '2.80522372', '4c53de3f-b8e4-4538-9efb-11d324615719'], ['10788.8', '3.08320458', '52c9f4ec-9a87-4676-beb1-cc628e578fb9'], ['10788.8', '0.1', 'ef5ae8fb-ddd6-4ea2-8684-05508bafcdbf'], ['10788.01', '0.9131', 'e7581427-e9a5-4de4-a51b-6b69c6ebb47a'], ['10787.79', '4.24', '91e2d259-fa05-4bfb-a34e-c35dbda4fc63'], ['10787.55', '4.3', '4a1b4485-67da-4d38-ad20-524938bf240c'], ['10787.19', '0.2832', 'e2c448bd-0601-487e-b522-d61acb37c030'], ['10787.08', '0.25', '4f367629-3fd2-44af-80bf-3f1059210637'], ['10787', '0.18448593', '3d7a838f-4251-4792-999e-54ce13ee2c32'], ['10786.8', '2.5', '981dc640-abca-41bf-a7be-ba8d654b3480'], ['10786.7', '0.46', '966b27ae-cbb8-4c96-9254-7360cdfc143a'], ['10785.49', '0.28645878', '11ca7a6b-cf1e-4156-80c7-2e46924543ab'], ['10785.49', '3.34', '7a004d1a-003b-4b3c-913c-b8e43bcf8701'], ['10785.17', '0.00545306', 'eca75b6b-1553-47cb-9878-3ecf05599bf0'], ['10785.17', '0.00182639', '349ecc26-21a8-4d4b-880b-3faa49f8e7a9'], ['10783.99', '0.27819', '142c00a7-de77-4c12-ae99-7d2e35629769'], ['10783.56', '7.972', '142c1ab4-712b-46a8-aaf1-3a4692b703d3'], ['10783.51', '1.1520305', 'd91e930d-9796-4826-a13f-ade9790b38d9'], ['10783.08', '0.9271', '44748963-cece-4e57-872a-b38b3b4f0b9e'], ['10782.88', '4.8', '0e2b0117-89ed-42fb-909e-dbf88b39ceee'], ['10782.82', '0.00657103', 'b59188ae-1391-4c4f-a9f1-b0fc782c8647'], ['10782.06', '0.27823', 'c1baec9d-9c17-46b8-8fbd-6752ae674f50'], ['10781.44', '1.444', 'ef3119ca-7d94-4bb4-b47f-45f81288fa78'], ['10781.25', '0.3', 'a681ccdb-a747-4a5a-bd2c-38a6aae13844'], ['10781.12', '1.50952384', 'f9ffcb30-32a7-4d20-ba2b-3821549b956c'], ['10780.64', '5.1', '8ea125e1-ffbc-4748-8451-6ce33fbcd8bc'], ['10780.23', '0.9111', '0f24cfdd-9d74-49ee-9822-0ca5d4d0d5fd'], ['10779.79', '0.27829', '9c09f98d-56b7-49ff-a273-0d4387933c08'], ['10779.76', '7.632', 'd01c5ff4-c2f0-44ac-8604-4196e27fc2bb'], ['10779.04', '0.02', 'd4bad8a9-621d-48c4-b62a-e831b101e830'], ['10778.9', '0.06388254', 'c78f9843-4f0c-4d01-9b75-734d033fe0c9'], ['10778.45', '0.06304435', 'd984ad22-daa2-4ef2-aef6-77f988e5219f'], ['10778.45', '0.03145298', '121ff584-d51a-433c-ada9-b1c5ccae058f'], ['10778.02', '0.009', '1a97c03f-edb3-481e-839b-af61f68d8c1d'], ['10777.77', '0.11166331', '75fbebc4-936c-4beb-b280-81ec07ad8f2f'], ['10777.62', '3.81', '0e77d3d4-c833-4a03-9cdf-5c43e7aa10b6'], ['10777.55', '0.05797758', 'ffca5e01-dcbe-45ab-b93f-12b328dda418'], ['10777.55', '0.09562175', '939dfca6-b7d5-442b-917a-5b031714d675'], ['10777.55', '0.00992886', '57152c22-2c2d-4795-a3a6-945a7f6d348c'], ['10777.47', '1.0765', 'e6bfd0ae-46af-48c2-aae9-7c3969431f31'], ['10776.61', '0.1988', 'fa035d1b-f104-4745-8495-50e75091bb0b'], ['10775.45', '0.0066', 'ffb2bb61-f194-49b6-ac7f-80f8dcdf9ac0'], ['10775', '0.47331787', '2da2ae2c-ade2-403e-95db-67e0d217c765'], ['10775', '0.01140594', '2a7a97cc-e499-429a-a1a9-45b73c768c52'], ['10774.94', '0.00100086', '46467c58-b4a3-4315-b5c6-04ece8e86ed8'], ['10774.88', '4', '22d6239e-578e-4063-b0c7-27b50c867f8b'], ['10773.1', '0.01876556', '9dc29eb6-5073-4216-b968-d9df42c916c3'], ['10773.09', '0.01', 'f13c887a-550c-4213-a8f6-0b20bf7c1d7e'], ['10773.07', '1.03', '5dfb4907-574b-4399-942b-c6c4f205bed3'], ['10772.94', '0.00100104', '131bf1be-38e9-410f-9b24-1e078cbf6d6f'], ['10772.63', '5.1', '7aaf31a8-6857-401c-ba8f-05e081aa31a4'], ['10772.3', '0.02601892', '9872c0ea-764b-4521-a273-ef4543e80fd7'], ['10772.29', '0.0066', '17a2a1cc-f172-4dc6-8b80-d8f9dc440314'], ['10772.2', '0.01889379', '9655e87e-70dd-48c7-9df2-23cea705d64f'], ['10772.19', '0.232079', '4ecf1052-74de-4572-aabc-5bfe1b85c632'], ['10772.18', '1.19622548', '0285ae40-a18d-4f42-9e1a-585b3c977d09'], ['10771.44', '0.03', '27d57519-12f0-44eb-b232-349fbb96d8d0'], ['10771.44', '0.00100118', '01b95eb4-407e-47e9-9d4f-ffd33870e53c'], ['10771.44', '0.00100118', '74354dc9-0d7b-4803-91a8-c8017dc6210a'], ['10771.44', '0.00100118', 'ea477aee-220f-428a-b0f9-82a0c88aacd8'], ['10771.44', '0.00100118', '31fb7bf3-505f-4314-9bb2-4aac5f11fee4'], ['10771.44', '0.00100118', 'b65862fa-a411-4b40-8aba-82b04eee9a43'], ['10771.44', '0.00100118', 'dda784da-daf0-4109-822e-ccab5c642ef2'], ['10771.44', '0.00100118', '85da373b-027f-47b5-811c-9eb12eb6990a'], ['10771.44', '0.00100118', 'db459911-6f40-40e3-869e-f5d9c171b0bb'], ['10771', '1.27187794', '0e42a2e3-ff18-4660-8e66-2c57d7d17d8b'], ['10770.94', '0.0010003', '640fb498-0862-4c07-afae-415e0aa2e6da'], ['10770.26', '0.00368545', '1ec706c6-179f-4037-996b-7cc002633ef0'], ['10769.91', '4.7', 'c09aa284-0cc9-4fa3-ada5-6818f7653321'], ['10769.44', '0.00100044', '458486d8-3f5b-4150-9438-71bc80fb7eeb'], ['10769.14', '0.0066', 'b136a373-2a67-4d9a-94c5-7060aa59723e'], ['10768.94', '0.00100049', 'f243ceb6-1ae0-4e70-8a0b-6308d99083d3'], ['10768.56', '1.05808773', '0a39b574-84e0-476f-98df-375e85a4f876'], ['10768.52', '0.596', '464921ce-4f96-4934-869b-9f9478f3697f'], ['10768.42', '0.001', '7b38bea5-ffd1-4f19-83cb-ae581dc1bfb7'], ['10767.44', '0.00100063', '348f71f6-b605-432e-b3e6-510260c869e3'], ['10767.39', '0.09287302', '4adbdeb2-d054-4d63-87db-bbe7b08320fe'], ['10767.27', '1.02581655', '7401582a-7361-4101-8f2f-8d869ee43030'], ['10767', '0.00554485', '283d7b37-301f-492e-827f-f547a649792c'], ['10766.94', '0.00100067', '3591bb63-4aaf-4d19-a26e-76d3bdcf40b3'], ['10766.73', '4.1', 'e7dfacbb-8c40-43ad-9bf6-2f357496a71f'], ['10766.55', '0.03', '18e93d89-1df5-4ff2-8f3b-bc38f7d16aac'], ['10766.4', '0.14360081', '19282df4-7545-4738-b62c-93cd3d022279'], ['10766.3', '0.10744999', '6af9dc20-2343-4649-994e-da85a86690f1'], ['10765.92', '1.48', 'd1ed88bf-7104-477b-acf4-9ea515277023'], ['10765.44', '0.00100081', '6e5b17d0-f391-4b38-a436-2b8a14ad8347'], ['10764.94', '0.00100086', '603ae8eb-8995-4f7b-a129-730ef4bbba51']]\n"
     ]
    }
   ],
   "source": [
    "print (final_clob['bids'][:100])"
   ]
  },
  {
   "cell_type": "code",
   "execution_count": 27,
   "id": "90877ef5",
   "metadata": {},
   "outputs": [
    {
     "data": {
      "text/plain": [
       "{'type': 'open',\n",
       " 'side': 'buy',\n",
       " 'product_id': 'BTC-USD',\n",
       " 'time': '2020-10-06T00:00:05.860994Z',\n",
       " 'sequence': 16712805003,\n",
       " 'price': '10778.91',\n",
       " 'order_id': '5cee9745-3cfa-46ee-b48d-31511a163ae7',\n",
       " 'remaining_size': '1.31839767'}"
      ]
     },
     "execution_count": 27,
     "metadata": {},
     "output_type": "execute_result"
    }
   ],
   "source": [
    "messages_data_filtered[100]"
   ]
  },
  {
   "cell_type": "code",
   "execution_count": 36,
   "id": "bc0c85f7",
   "metadata": {},
   "outputs": [
    {
     "data": {
      "text/plain": [
       "[]"
      ]
     },
     "execution_count": 36,
     "metadata": {},
     "output_type": "execute_result"
    }
   ],
   "source": [
    "\n",
    "filter_order_id_message = lambda array,order_id: [D for D in array if 'order_id' in D.keys() and D['order_id'] ==order_id]\n",
    "filter_order_id_message(messages_data_filtered,\"19b9d70e-8821-4846-ba72-ce5eeba2feaa\")\n"
   ]
  },
  {
   "cell_type": "code",
   "execution_count": 23,
   "id": "712e1742",
   "metadata": {},
   "outputs": [
    {
     "data": {
      "text/plain": [
       "[]"
      ]
     },
     "execution_count": 23,
     "metadata": {},
     "output_type": "execute_result"
    }
   ],
   "source": [
    "filter_order_id = lambda clob,asks_or_bids,order_id: [subli for subli in clob[asks_or_bids] if subli[2] == order_id]\n",
    "filter_order_id(final_clob,'asks','d98e69bd-aa7c-40ec-8c34-5087c20b86bd')"
   ]
  },
  {
   "cell_type": "code",
   "execution_count": 16,
   "id": "c03f5d04",
   "metadata": {},
   "outputs": [
    {
     "data": {
      "text/plain": [
       "1077"
      ]
     },
     "execution_count": 16,
     "metadata": {},
     "output_type": "execute_result"
    }
   ],
   "source": [
    "len([message_dict for message_dict in messages_data_filtered if 'order_id' not in message_dict.keys()])"
   ]
  },
  {
   "cell_type": "code",
   "execution_count": 29,
   "id": "1d9a77b2",
   "metadata": {},
   "outputs": [],
   "source": [
    "import pandas as pd"
   ]
  },
  {
   "cell_type": "markdown",
   "id": "e389062b",
   "metadata": {},
   "source": [
    "# Orders in Messages"
   ]
  },
  {
   "cell_type": "code",
   "execution_count": 32,
   "id": "68f1a39d",
   "metadata": {},
   "outputs": [
    {
     "name": "stdout",
     "output_type": "stream",
     "text": [
      "358\n"
     ]
    }
   ],
   "source": [
    "def order_ids_pull(orders_data_dict,asks_or_bids):\n",
    "    return [D[2] for D in orders_data_dict[asks_or_bids]]\n",
    "\n",
    "def messages_identify(messages_data,order_ids):\n",
    "    return [D for D in messages_data if 'order_id' in D.keys() and D['order_id'] in order_ids]\n",
    "\n",
    "order_ids = order_ids_pull(final_clob,'asks')\n",
    "messages_with_orders = messages_identify(messages_data_filtered,order_ids)\n",
    "print (len(messages_with_orders))"
   ]
  },
  {
   "cell_type": "code",
   "execution_count": 33,
   "id": "ef8a0dff",
   "metadata": {},
   "outputs": [
    {
     "name": "stdout",
     "output_type": "stream",
     "text": [
      "{'type': 'received', 'side': 'sell', 'product_id': 'BTC-USD', 'time': '2020-10-06T00:00:06.075997Z', 'sequence': 16712805032, 'order_id': '9ee2c3ef-0309-406d-a0a0-c0e1599cd9b6', 'order_type': 'limit', 'size': '0.001', 'price': '10800.05', 'client_oid': ''}\n"
     ]
    }
   ],
   "source": [
    "print (messages_with_orders[0])"
   ]
  },
  {
   "cell_type": "code",
   "execution_count": 35,
   "id": "9e9c7e3d",
   "metadata": {},
   "outputs": [
    {
     "data": {
      "text/plain": [
       "[['10800.05', '0.001', '9ee2c3ef-0309-406d-a0a0-c0e1599cd9b6']]"
      ]
     },
     "execution_count": 35,
     "metadata": {},
     "output_type": "execute_result"
    }
   ],
   "source": [
    "filter_order_id = lambda clob,asks_or_bids,order_id: [subli for subli in clob[asks_or_bids] if subli[2] == order_id]\n",
    "\n",
    "filter_order_id(final_clob,'asks','9ee2c3ef-0309-406d-a0a0-c0e1599cd9b6')"
   ]
  },
  {
   "cell_type": "code",
   "execution_count": 37,
   "id": "057f6cd1",
   "metadata": {},
   "outputs": [
    {
     "data": {
      "text/plain": [
       "[{'type': 'received',\n",
       "  'side': 'sell',\n",
       "  'product_id': 'BTC-USD',\n",
       "  'time': '2020-10-06T00:00:06.075997Z',\n",
       "  'sequence': 16712805032,\n",
       "  'order_id': '9ee2c3ef-0309-406d-a0a0-c0e1599cd9b6',\n",
       "  'order_type': 'limit',\n",
       "  'size': '0.001',\n",
       "  'price': '10800.05',\n",
       "  'client_oid': ''},\n",
       " {'type': 'open',\n",
       "  'side': 'sell',\n",
       "  'product_id': 'BTC-USD',\n",
       "  'time': '2020-10-06T00:00:06.075997Z',\n",
       "  'sequence': 16712805033,\n",
       "  'price': '10800.05',\n",
       "  'order_id': '9ee2c3ef-0309-406d-a0a0-c0e1599cd9b6',\n",
       "  'remaining_size': '0.001'}]"
      ]
     },
     "execution_count": 37,
     "metadata": {},
     "output_type": "execute_result"
    }
   ],
   "source": [
    "filter_order_id_message(messages_data_filtered,'9ee2c3ef-0309-406d-a0a0-c0e1599cd9b6')\n"
   ]
  },
  {
   "cell_type": "code",
   "execution_count": 38,
   "id": "7bd8e0e4",
   "metadata": {},
   "outputs": [
    {
     "data": {
      "text/plain": [
       "[{'type': 'received',\n",
       "  'side': 'sell',\n",
       "  'product_id': 'BTC-USD',\n",
       "  'time': '2020-10-06T00:00:06.075997Z',\n",
       "  'sequence': 16712805032,\n",
       "  'order_id': '9ee2c3ef-0309-406d-a0a0-c0e1599cd9b6',\n",
       "  'order_type': 'limit',\n",
       "  'size': '0.001',\n",
       "  'price': '10800.05',\n",
       "  'client_oid': ''},\n",
       " {'type': 'open',\n",
       "  'side': 'sell',\n",
       "  'product_id': 'BTC-USD',\n",
       "  'time': '2020-10-06T00:00:06.075997Z',\n",
       "  'sequence': 16712805033,\n",
       "  'price': '10800.05',\n",
       "  'order_id': '9ee2c3ef-0309-406d-a0a0-c0e1599cd9b6',\n",
       "  'remaining_size': '0.001'}]"
      ]
     },
     "execution_count": 38,
     "metadata": {},
     "output_type": "execute_result"
    }
   ],
   "source": [
    "filter_order_id_message(messages_data,'9ee2c3ef-0309-406d-a0a0-c0e1599cd9b6')\n"
   ]
  },
  {
   "cell_type": "code",
   "execution_count": 40,
   "id": "b517f427",
   "metadata": {},
   "outputs": [
    {
     "name": "stdout",
     "output_type": "stream",
     "text": [
      "{'type': 'received', 'side': 'sell', 'product_id': 'BTC-USD', 'time': '2020-10-06T00:00:30.894232Z', 'sequence': 16712811974, 'order_id': '6f4dbd88-e19a-4fec-aec4-efd433acb663', 'order_type': 'limit', 'size': '0.1', 'price': '10850', 'client_oid': '31a1208f-1f79-4b6d-85b2-a0cdb2a435f7'}\n"
     ]
    }
   ],
   "source": [
    "print (messages_with_orders[2])"
   ]
  },
  {
   "cell_type": "code",
   "execution_count": 42,
   "id": "600d96dc",
   "metadata": {},
   "outputs": [
    {
     "data": {
      "text/plain": [
       "[{'type': 'received',\n",
       "  'side': 'sell',\n",
       "  'product_id': 'BTC-USD',\n",
       "  'time': '2020-10-06T00:00:30.894232Z',\n",
       "  'sequence': 16712811974,\n",
       "  'order_id': '6f4dbd88-e19a-4fec-aec4-efd433acb663',\n",
       "  'order_type': 'limit',\n",
       "  'size': '0.1',\n",
       "  'price': '10850',\n",
       "  'client_oid': '31a1208f-1f79-4b6d-85b2-a0cdb2a435f7'},\n",
       " {'type': 'open',\n",
       "  'side': 'sell',\n",
       "  'product_id': 'BTC-USD',\n",
       "  'time': '2020-10-06T00:00:30.894232Z',\n",
       "  'sequence': 16712811975,\n",
       "  'price': '10850',\n",
       "  'order_id': '6f4dbd88-e19a-4fec-aec4-efd433acb663',\n",
       "  'remaining_size': '0.1'}]"
      ]
     },
     "execution_count": 42,
     "metadata": {},
     "output_type": "execute_result"
    }
   ],
   "source": [
    "filter_order_id_message(messages_data_filtered,'6f4dbd88-e19a-4fec-aec4-efd433acb663')\n"
   ]
  },
  {
   "cell_type": "code",
   "execution_count": 43,
   "id": "403f17ae",
   "metadata": {},
   "outputs": [
    {
     "data": {
      "text/plain": [
       "[['10850', '0.1', '6f4dbd88-e19a-4fec-aec4-efd433acb663']]"
      ]
     },
     "execution_count": 43,
     "metadata": {},
     "output_type": "execute_result"
    }
   ],
   "source": [
    "filter_order_id(final_clob,'asks','6f4dbd88-e19a-4fec-aec4-efd433acb663')"
   ]
  },
  {
   "cell_type": "code",
   "execution_count": 44,
   "id": "52366c37",
   "metadata": {},
   "outputs": [
    {
     "data": {
      "text/plain": [
       "12677"
      ]
     },
     "execution_count": 44,
     "metadata": {},
     "output_type": "execute_result"
    }
   ],
   "source": [
    "len(final_clob['asks'])"
   ]
  },
  {
   "cell_type": "code",
   "execution_count": 45,
   "id": "bc26232c",
   "metadata": {},
   "outputs": [
    {
     "data": {
      "text/plain": [
       "28413"
      ]
     },
     "execution_count": 45,
     "metadata": {},
     "output_type": "execute_result"
    }
   ],
   "source": [
    "len(final_clob['bids'])"
   ]
  },
  {
   "cell_type": "markdown",
   "id": "d0920900",
   "metadata": {},
   "source": [
    "## Assess Change Between Initial and Final Snapshot to find specific differences\n",
    "What are the differences between initial snapshot and final snapshot"
   ]
  },
  {
   "cell_type": "code",
   "execution_count": null,
   "id": "809aab93",
   "metadata": {},
   "outputs": [],
   "source": []
  },
  {
   "cell_type": "markdown",
   "id": "1f0033c1",
   "metadata": {},
   "source": [
    "## Look at Match Messages to See if Change\n",
    "How do match messages change the order book?"
   ]
  },
  {
   "cell_type": "markdown",
   "id": "31d72618",
   "metadata": {},
   "source": [
    "## Open Messages are not in order book"
   ]
  },
  {
   "cell_type": "markdown",
   "id": "2e7d9ade",
   "metadata": {},
   "source": [
    "## What happens if I group OrderID Messages together?"
   ]
  }
 ],
 "metadata": {
  "kernelspec": {
   "display_name": "Python 3 (ipykernel)",
   "language": "python",
   "name": "python3"
  },
  "language_info": {
   "codemirror_mode": {
    "name": "ipython",
    "version": 3
   },
   "file_extension": ".py",
   "mimetype": "text/x-python",
   "name": "python",
   "nbconvert_exporter": "python",
   "pygments_lexer": "ipython3",
   "version": "3.10.0"
  }
 },
 "nbformat": 4,
 "nbformat_minor": 5
}
