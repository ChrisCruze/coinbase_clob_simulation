{
 "cells": [
  {
   "cell_type": "code",
   "execution_count": 1,
   "id": "3eb0d542",
   "metadata": {},
   "outputs": [],
   "source": [
    "import gzip\n",
    "import json\n",
    "\n",
    "def messages_parse(data):\n",
    "    data_with_no_binary = str(data).split(\"'\")[1:-1][0]\n",
    "    data_list =[i for i in data_with_no_binary.split('\\\\n') if i != '']\n",
    "    messages_data = [json.loads(D) for D in data_list]\n",
    "    return messages_data \n",
    "\n",
    "def messages_read(file=\"../data/coinbase_BTC-USD_20_10_06_000000-010000.json.gz\"):\n",
    "    file_object = gzip.open(file, \"r\")\n",
    "    data = file_object.read()\n",
    "    messages_data = messages_parse(data)\n",
    "    return messages_data \n",
    "\n",
    "def snapshot_read(file=\"../data/coinbase_BTC-USD_20_10_06_00_00.json\"):\n",
    "    snaphsot_data = json.loads(open(file,'r').read())\n",
    "    return snaphsot_data\n",
    "\n",
    "def messages_filter(messages_data,initial_clob,final_clob):\n",
    "    messages_data_filtered = [message_dict for message_dict in messages_data if message_dict['sequence'] >= initial_clob['sequence'] and message_dict['sequence'] <= final_clob['sequence']]\n",
    "    return messages_data_filtered\n",
    "            \n",
    "messages_data = messages_read()\n",
    "initial_clob = snapshot_read(file=\"../data/coinbase_BTC-USD_20_10_06_00_00.json\")\n",
    "final_clob = snapshot_read(file=\"../data/coinbase_BTC-USD_20_10_06_00_15.json\")\n",
    "messages_data_filtered = messages_filter(messages_data,initial_clob,final_clob)\n",
    "\n"
   ]
  },
  {
   "cell_type": "code",
   "execution_count": 21,
   "id": "41bde389",
   "metadata": {},
   "outputs": [
    {
     "name": "stdout",
     "output_type": "stream",
     "text": [
      "{'type': 'done', 'side': 'sell', 'product_id': 'BTC-USD', 'time': '2020-10-06T00:00:05.810671Z', 'sequence': 16712804989, 'order_id': 'd98e69bd-aa7c-40ec-8c34-5087c20b86bd', 'reason': 'canceled', 'price': '10863.19', 'remaining_size': '0.04602702'}\n",
      "{'type': 'done', 'side': 'sell', 'product_id': 'BTC-USD', 'time': '2020-10-06T00:00:05.845766Z', 'sequence': 16712804995, 'order_id': 'ab1bbc24-25da-4034-baad-fd36d1a047a2', 'reason': 'canceled', 'price': '10845.82', 'remaining_size': '0.09220147'}\n",
      "{'type': 'received', 'side': 'sell', 'product_id': 'BTC-USD', 'time': '2020-10-06T00:00:05.937475Z', 'sequence': 16712805016, 'order_id': '078b8c60-b5ad-4378-9b6b-aca2fbecf128', 'order_type': 'limit', 'size': '0.0497', 'price': '10847.84', 'client_oid': '54ab35ce-177c-483f-9c3d-b1e7d593d0ad'}\n",
      "{'type': 'done', 'side': 'buy', 'product_id': 'BTC-USD', 'time': '2020-10-06T00:00:05.943580Z', 'sequence': 16712805019, 'order_id': 'd594aba0-a5a6-46ae-b20e-e745503d384c', 'reason': 'canceled', 'price': '10764.83', 'remaining_size': '1.06605134'}\n",
      "{'type': 'done', 'side': 'buy', 'product_id': 'BTC-USD', 'time': '2020-10-06T00:00:05.943580Z', 'sequence': 16712805020, 'order_id': '93fdf5cf-254a-46f8-a3d1-79a22bca7b57', 'reason': 'canceled', 'price': '10764.83', 'remaining_size': '1.31839767'}\n"
     ]
    }
   ],
   "source": [
    "for D in messages_data_filtered[:5]:\n",
    "    print (D)"
   ]
  },
  {
   "cell_type": "code",
   "execution_count": 2,
   "id": "7f5429a0",
   "metadata": {},
   "outputs": [
    {
     "name": "stdout",
     "output_type": "stream",
     "text": [
      "dict_keys(['bids', 'asks', 'sequence'])\n"
     ]
    }
   ],
   "source": [
    "print (initial_clob.keys())"
   ]
  },
  {
   "cell_type": "markdown",
   "id": "5e95778e",
   "metadata": {},
   "source": [
    "lists are quite slow for this purpose because inserting or deleting an element at the beginning requires shifting all of the other elements by one, requiring O(n) time.\n",
    "\n",
    "“First in First Out”"
   ]
  },
  {
   "cell_type": "code",
   "execution_count": null,
   "id": "04b930b3",
   "metadata": {},
   "outputs": [],
   "source": [
    "Sell = Asks\n",
    "Buy = Bids"
   ]
  },
  {
   "cell_type": "code",
   "execution_count": 40,
   "id": "8f446d35",
   "metadata": {},
   "outputs": [
    {
     "name": "stderr",
     "output_type": "stream",
     "text": [
      "INFO:root:message_side: sell\n",
      "INFO:root:message_type: done\n",
      "INFO:root:order_id: d98e69bd-aa7c-40ec-8c34-5087c20b86bd\n",
      "INFO:root:clob_bids_or_ask_dict: None\n",
      "INFO:root:message_side: sell\n",
      "INFO:root:message_type: done\n",
      "INFO:root:order_id: ab1bbc24-25da-4034-baad-fd36d1a047a2\n",
      "INFO:root:clob_bids_or_ask_dict: ['10845.82', '0.09220147', 'ab1bbc24-25da-4034-baad-fd36d1a047a2']\n"
     ]
    },
    {
     "name": "stdout",
     "output_type": "stream",
     "text": [
      "initial_asks: %s 12620\n",
      "final_asks: %s 12619\n",
      "initial_bids: %s 28370\n",
      "final_bids: %s 28370\n",
      "done_msgs: %s 2\n",
      "open_msgs: %s 0\n"
     ]
    }
   ],
   "source": [
    "import logging\n",
    "import queue\n",
    "\n",
    "logging.basicConfig(level=20)\n",
    "logger = logging.getLogger()\n",
    "#logger.setLevel(logging.INFO)\n",
    "\n",
    "\n",
    "class OrderDictTable:\n",
    "    def __init__(self, order_items):\n",
    "        self.order_dict = {} #\n",
    "        self.assign_orders_dict(order_items)\n",
    "        \n",
    "    def assign_orders_dict(self,order_items):\n",
    "        keys = [subli[2] for subli in order_items]#map(lambda price,size,order_id: order_id,order_items)\n",
    "        self.order_dict = dict([(order_id,order_item) for (order_id,order_item) in zip(keys,order_items) ])\n",
    "    \n",
    "    def get_values(self):\n",
    "        return self.order_dict.values()\n",
    "\n",
    "    def get_obj(self):\n",
    "        return self.order_dict\n",
    "\n",
    "\n",
    "class CLOB:\n",
    "    def __init__(self,clob):\n",
    "        self.bids_obj = OrderDictTable(clob['bids']).get_obj()\n",
    "        self.asks_obj = OrderDictTable(clob['asks']).get_obj()\n",
    "        \n",
    "    def order_remove(self,clob_bids_or_ask_dict,order_id):\n",
    "        logger.info('order_id: %s', str(order_id))\n",
    "        removed_order = clob_bids_or_ask_dict.pop(order_id,None)\n",
    "        logger.info('clob_bids_or_ask_dict: %s', str(removed_order))\n",
    "\n",
    "        \n",
    "    def order_add(self,clob_bids_or_ask_dict,price,size,order_id):\n",
    "        clob_bids_or_ask_dict[order_id] = [price,size,order_id]\n",
    "        \n",
    "    def update_from_message(self,message_obj):\n",
    "        #logger.info('message_obj: %s', str(message_obj))\n",
    "        message_type = message_obj['type']\n",
    "        message_side = message_obj['side']\n",
    "        clob_bids_or_ask_dict = self.asks_obj if message_side == 'sell' else self.bids_obj \n",
    "        logger.info('message_side: %s', str(message_side))\n",
    "        logger.info('message_type: %s', str(message_type))\n",
    "\n",
    "        if message_type == 'done':\n",
    "            self.order_remove(clob_bids_or_ask_dict,message_obj['order_id'])\n",
    "        elif message_type == 'open':\n",
    "            self.order_add(clob_bids_or_ask_dict,message_obj['price'],message_obj['remaining_size'],message_obj['order_id'])\n",
    "        \n",
    "    def get_clob(self):\n",
    "        return {\n",
    "            'bids':self.bids_obj.values(),\n",
    "            'asks':self.asks_obj.values()\n",
    "        }\n",
    "    \n",
    "class CLOBValidate:\n",
    "    def validate(self,initial_clob,final_clob,messages_queue_data):\n",
    "        initial_bids = len(initial_clob['bids'])\n",
    "        initial_asks = len(initial_clob['asks'])\n",
    "        \n",
    "        final_bids = len(final_clob['bids'])\n",
    "        final_asks = len(final_clob['asks'])\n",
    "        \n",
    "        done_msgs = len([message_obj for message_obj in messages_queue_data if message_obj['type'] == 'done'])\n",
    "        open_msgs = len([message_obj for message_obj in messages_queue_data if message_obj['type'] == 'open'])\n",
    "\n",
    "        print ('initial_asks: %s', str(initial_asks))\n",
    "        print ('final_asks: %s', str(final_asks))\n",
    "\n",
    "        print ('initial_bids: %s', str(initial_bids))\n",
    "        print ('final_bids: %s', str(final_bids))\n",
    "        \n",
    "        print ('done_msgs: %s', str(done_msgs))\n",
    "        print ('open_msgs: %s', str(open_msgs))\n",
    "        \n",
    "        \n",
    "clob = CLOB(initial_clob)\n",
    "q = queue.Queue()\n",
    "messages_queue_data = messages_data_filtered[:2]\n",
    "list(map(q.put,messages_queue_data ))\n",
    "while not q.empty():\n",
    "    message_obj = q.get()\n",
    "    clob.update_from_message(message_obj)\n",
    "\n",
    "final_clob = clob.get_clob()\n",
    "CLOBValidate().validate(initial_clob,final_clob,messages_queue_data)\n",
    "\n",
    "#bids_dict_table = OrderDictTable(initial_clob['bids'])\n",
    "#asks_dict_table = OrderDictTable(initial_clob['asks'])"
   ]
  },
  {
   "cell_type": "code",
   "execution_count": 11,
   "id": "c868ee6d",
   "metadata": {},
   "outputs": [
    {
     "data": {
      "text/plain": [
       "['10797.99', '2', 'a41dfd8c-41e0-4864-b848-6d30ccb1faa4']"
      ]
     },
     "execution_count": 11,
     "metadata": {},
     "output_type": "execute_result"
    }
   ],
   "source": [
    "list(clob.get_clob()['bids'])[0]"
   ]
  },
  {
   "cell_type": "code",
   "execution_count": 7,
   "id": "f04486b4",
   "metadata": {},
   "outputs": [
    {
     "name": "stdout",
     "output_type": "stream",
     "text": [
      "28370\n",
      "28370\n"
     ]
    }
   ],
   "source": [
    "print (len(bids_dict_table.get_values()))\n",
    "print (len(initial_clob['bids']))"
   ]
  },
  {
   "cell_type": "code",
   "execution_count": null,
   "id": "fb9dadfc",
   "metadata": {},
   "outputs": [],
   "source": [
    "class Dicttable:\n",
    "    def __init__(self, bids,asks):\n",
    "        dict([(order_id,order_data) for (order_id,order_data) in bids ])\n",
    "        self.bucket_size = len(elements)\n",
    "        self.buckets = [[] for i in range(self.bucket_size)]\n",
    "        self._assign_buckets(elements)\n"
   ]
  },
  {
   "cell_type": "code",
   "execution_count": 12,
   "id": "bc146375",
   "metadata": {},
   "outputs": [
    {
     "name": "stdout",
     "output_type": "stream",
     "text": [
      "Initial queue\n",
      "['a', 'b', 'c']\n",
      "\n",
      "Elements dequeued from queue\n",
      "a\n",
      "b\n",
      "c\n",
      "\n",
      "Queue after removing elements\n",
      "[]\n"
     ]
    }
   ],
   "source": [
    "\n",
    "# Python program to\n",
    "# demonstrate queue implementation\n",
    "# using list\n",
    " \n",
    "# Initializing a queue\n",
    "queue = []\n",
    " \n",
    "# Adding elements to the queue\n",
    "queue.append('a')\n",
    "queue.append('b')\n",
    "queue.append('c')\n",
    " \n",
    "print(\"Initial queue\")\n",
    "print(queue)\n",
    " \n",
    "# Removing elements from the queue\n",
    "print(\"\\nElements dequeued from queue\")\n",
    "print(queue.pop(0))\n",
    "print(queue.pop(0))\n",
    "print(queue.pop(0))\n",
    " \n",
    "print(\"\\nQueue after removing elements\")\n",
    "print(queue)\n",
    " \n",
    "# Uncommenting print(queue.pop(0))\n",
    "# will raise and IndexError\n",
    "# as the queue is now empty"
   ]
  },
  {
   "cell_type": "code",
   "execution_count": null,
   "id": "001b4cef",
   "metadata": {},
   "outputs": [],
   "source": [
    "import queue\n",
    "q = queue.Queue()\n",
    "list(map(q.put, messages_data_filtered))\n"
   ]
  },
  {
   "cell_type": "code",
   "execution_count": 15,
   "id": "d2b7f4b7",
   "metadata": {},
   "outputs": [
    {
     "data": {
      "text/plain": [
       "{'type': 'done',\n",
       " 'side': 'sell',\n",
       " 'product_id': 'BTC-USD',\n",
       " 'time': '2020-10-06T00:00:05.845766Z',\n",
       " 'sequence': 16712804995,\n",
       " 'order_id': 'ab1bbc24-25da-4034-baad-fd36d1a047a2',\n",
       " 'reason': 'canceled',\n",
       " 'price': '10845.82',\n",
       " 'remaining_size': '0.09220147'}"
      ]
     },
     "execution_count": 15,
     "metadata": {},
     "output_type": "execute_result"
    }
   ],
   "source": [
    "q.get()"
   ]
  },
  {
   "cell_type": "code",
   "execution_count": 16,
   "id": "61ab1ee0",
   "metadata": {},
   "outputs": [],
   "source": [
    "with q.mutex:\n",
    "    q.queue.clear()"
   ]
  },
  {
   "cell_type": "code",
   "execution_count": 17,
   "id": "d6bbff01",
   "metadata": {},
   "outputs": [
    {
     "ename": "KeyboardInterrupt",
     "evalue": "",
     "output_type": "error",
     "traceback": [
      "\u001b[0;31m---------------------------------------------------------------------------\u001b[0m",
      "\u001b[0;31mKeyboardInterrupt\u001b[0m                         Traceback (most recent call last)",
      "\u001b[0;32m/var/folders/00/xr38cr8n7xd8vz3n5831t62m0000gn/T/ipykernel_3748/1356378773.py\u001b[0m in \u001b[0;36m<module>\u001b[0;34m\u001b[0m\n\u001b[0;32m----> 1\u001b[0;31m \u001b[0mq\u001b[0m\u001b[0;34m.\u001b[0m\u001b[0mget\u001b[0m\u001b[0;34m(\u001b[0m\u001b[0;34m)\u001b[0m\u001b[0;34m\u001b[0m\u001b[0;34m\u001b[0m\u001b[0m\n\u001b[0m",
      "\u001b[0;32m/Library/Frameworks/Python.framework/Versions/3.10/lib/python3.10/queue.py\u001b[0m in \u001b[0;36mget\u001b[0;34m(self, block, timeout)\u001b[0m\n\u001b[1;32m    169\u001b[0m             \u001b[0;32melif\u001b[0m \u001b[0mtimeout\u001b[0m \u001b[0;32mis\u001b[0m \u001b[0;32mNone\u001b[0m\u001b[0;34m:\u001b[0m\u001b[0;34m\u001b[0m\u001b[0;34m\u001b[0m\u001b[0m\n\u001b[1;32m    170\u001b[0m                 \u001b[0;32mwhile\u001b[0m \u001b[0;32mnot\u001b[0m \u001b[0mself\u001b[0m\u001b[0;34m.\u001b[0m\u001b[0m_qsize\u001b[0m\u001b[0;34m(\u001b[0m\u001b[0;34m)\u001b[0m\u001b[0;34m:\u001b[0m\u001b[0;34m\u001b[0m\u001b[0;34m\u001b[0m\u001b[0m\n\u001b[0;32m--> 171\u001b[0;31m                     \u001b[0mself\u001b[0m\u001b[0;34m.\u001b[0m\u001b[0mnot_empty\u001b[0m\u001b[0;34m.\u001b[0m\u001b[0mwait\u001b[0m\u001b[0;34m(\u001b[0m\u001b[0;34m)\u001b[0m\u001b[0;34m\u001b[0m\u001b[0;34m\u001b[0m\u001b[0m\n\u001b[0m\u001b[1;32m    172\u001b[0m             \u001b[0;32melif\u001b[0m \u001b[0mtimeout\u001b[0m \u001b[0;34m<\u001b[0m \u001b[0;36m0\u001b[0m\u001b[0;34m:\u001b[0m\u001b[0;34m\u001b[0m\u001b[0;34m\u001b[0m\u001b[0m\n\u001b[1;32m    173\u001b[0m                 \u001b[0;32mraise\u001b[0m \u001b[0mValueError\u001b[0m\u001b[0;34m(\u001b[0m\u001b[0;34m\"'timeout' must be a non-negative number\"\u001b[0m\u001b[0;34m)\u001b[0m\u001b[0;34m\u001b[0m\u001b[0;34m\u001b[0m\u001b[0m\n",
      "\u001b[0;32m/Library/Frameworks/Python.framework/Versions/3.10/lib/python3.10/threading.py\u001b[0m in \u001b[0;36mwait\u001b[0;34m(self, timeout)\u001b[0m\n\u001b[1;32m    318\u001b[0m         \u001b[0;32mtry\u001b[0m\u001b[0;34m:\u001b[0m    \u001b[0;31m# restore state no matter what (e.g., KeyboardInterrupt)\u001b[0m\u001b[0;34m\u001b[0m\u001b[0;34m\u001b[0m\u001b[0m\n\u001b[1;32m    319\u001b[0m             \u001b[0;32mif\u001b[0m \u001b[0mtimeout\u001b[0m \u001b[0;32mis\u001b[0m \u001b[0;32mNone\u001b[0m\u001b[0;34m:\u001b[0m\u001b[0;34m\u001b[0m\u001b[0;34m\u001b[0m\u001b[0m\n\u001b[0;32m--> 320\u001b[0;31m                 \u001b[0mwaiter\u001b[0m\u001b[0;34m.\u001b[0m\u001b[0macquire\u001b[0m\u001b[0;34m(\u001b[0m\u001b[0;34m)\u001b[0m\u001b[0;34m\u001b[0m\u001b[0;34m\u001b[0m\u001b[0m\n\u001b[0m\u001b[1;32m    321\u001b[0m                 \u001b[0mgotit\u001b[0m \u001b[0;34m=\u001b[0m \u001b[0;32mTrue\u001b[0m\u001b[0;34m\u001b[0m\u001b[0;34m\u001b[0m\u001b[0m\n\u001b[1;32m    322\u001b[0m             \u001b[0;32melse\u001b[0m\u001b[0;34m:\u001b[0m\u001b[0;34m\u001b[0m\u001b[0;34m\u001b[0m\u001b[0m\n",
      "\u001b[0;31mKeyboardInterrupt\u001b[0m: "
     ]
    }
   ],
   "source": [
    "q.get()"
   ]
  },
  {
   "cell_type": "code",
   "execution_count": null,
   "id": "c80832a6",
   "metadata": {},
   "outputs": [],
   "source": [
    "messages_data_filtered[0]"
   ]
  }
 ],
 "metadata": {
  "kernelspec": {
   "display_name": "Python 3 (ipykernel)",
   "language": "python",
   "name": "python3"
  },
  "language_info": {
   "codemirror_mode": {
    "name": "ipython",
    "version": 3
   },
   "file_extension": ".py",
   "mimetype": "text/x-python",
   "name": "python",
   "nbconvert_exporter": "python",
   "pygments_lexer": "ipython3",
   "version": "3.10.0"
  }
 },
 "nbformat": 4,
 "nbformat_minor": 5
}
