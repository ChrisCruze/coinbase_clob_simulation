{
 "cells": [
  {
   "cell_type": "markdown",
   "id": "12d81dfa",
   "metadata": {},
   "source": [
    "## Explore Data\n",
    "- Change between old and new snapshot with corresponding messages will reveal items that need to have messages update for \n",
    "- Messages with Change type to show if order book has update\n",
    "- Open messages not in order book\n",
    "- grouped messages with more than one to show order book relation"
   ]
  },
  {
   "cell_type": "code",
   "execution_count": 1,
   "id": "1e94fea8",
   "metadata": {},
   "outputs": [],
   "source": [
    "import gzip\n",
    "import json\n",
    "\n",
    "def messages_parse(data):\n",
    "    data_with_no_binary = str(data).split(\"'\")[1:-1][0]\n",
    "    data_list =[i for i in data_with_no_binary.split('\\\\n') if i != '']\n",
    "    messages_data = [json.loads(D) for D in data_list]\n",
    "    return messages_data \n",
    "\n",
    "def messages_read(file=\"../data/coinbase_BTC-USD_20_10_06_000000-010000.json.gz\"):\n",
    "    file_object = gzip.open(file, \"r\")\n",
    "    data = file_object.read()\n",
    "    messages_data = messages_parse(data)\n",
    "    return messages_data \n",
    "\n",
    "def snapshot_read(file=\"../data/coinbase_BTC-USD_20_10_06_00_00.json\"):\n",
    "    snaphsot_data = json.loads(open(file,'r').read())\n",
    "    return snaphsot_data\n",
    "\n",
    "def messages_filter(messages_data,initial_clob,final_clob):\n",
    "    messages_data_filtered = [message_dict for message_dict in messages_data if message_dict['sequence'] >= initial_clob['sequence'] and message_dict['sequence'] <= final_clob['sequence']]\n",
    "    return messages_data_filtered\n",
    "            \n",
    "\n"
   ]
  },
  {
   "cell_type": "code",
   "execution_count": 2,
   "id": "764ebdd4",
   "metadata": {},
   "outputs": [],
   "source": [
    "messages_data = messages_read()\n",
    "initial_clob = snapshot_read(file=\"../data/coinbase_BTC-USD_20_10_06_00_00.json\")\n",
    "final_clob = snapshot_read(file=\"../data/coinbase_BTC-USD_20_10_06_00_15.json\")\n",
    "messages_data_filtered = messages_filter(messages_data,initial_clob,final_clob)\n"
   ]
  },
  {
   "cell_type": "markdown",
   "id": "9a5c4035",
   "metadata": {},
   "source": [
    "## Difference between final and initial"
   ]
  },
  {
   "cell_type": "code",
   "execution_count": 3,
   "id": "e1a8d52d",
   "metadata": {},
   "outputs": [
    {
     "name": "stdout",
     "output_type": "stream",
     "text": [
      "12677\n",
      "180\n"
     ]
    }
   ],
   "source": [
    "def difference_identify(l1,l2):\n",
    "    return [subli for subli in l2 if subli not in l1]\n",
    "\n",
    "def difference_identify_bids_or_asks(initial_clob,final_clob,bids_or_asks):\n",
    "    l1 = initial_clob[bids_or_asks]\n",
    "    l2 = final_clob[bids_or_asks]\n",
    "    difference_list = difference_identify(l1,l2)\n",
    "    return difference_list\n",
    "\n",
    "print (len(final_clob['asks']))\n",
    "difference_list_asks = difference_identify_bids_or_asks(initial_clob,final_clob,'asks')\n",
    "print (len(difference_list_asks))\n"
   ]
  },
  {
   "cell_type": "code",
   "execution_count": 13,
   "id": "e86b8bda",
   "metadata": {},
   "outputs": [
    {
     "name": "stdout",
     "output_type": "stream",
     "text": [
      "28413\n",
      "184\n"
     ]
    }
   ],
   "source": [
    "print (len(final_clob['bids']))\n",
    "difference_list_bids = difference_identify_bids_or_asks(initial_clob,final_clob,'bids')\n",
    "print (len(difference_list_bids))"
   ]
  },
  {
   "cell_type": "code",
   "execution_count": 4,
   "id": "1c61e12f",
   "metadata": {},
   "outputs": [
    {
     "name": "stdout",
     "output_type": "stream",
     "text": [
      "['10792.95', '0.03455826', '0498bfb5-8b93-46ab-b121-64d6b891e0f1']\n"
     ]
    }
   ],
   "source": [
    "print (difference_list_asks[0])"
   ]
  },
  {
   "cell_type": "code",
   "execution_count": 5,
   "id": "5a5ddefc",
   "metadata": {},
   "outputs": [],
   "source": [
    "filter_order_id_message = lambda array,order_id: [D for D in array if 'order_id' in D.keys() and D['order_id'] ==order_id]\n",
    "filter_order_id_clob = lambda clob,asks_or_bids,order_id: [subli for subli in clob[asks_or_bids] if subli[2] == order_id]\n",
    "\n"
   ]
  },
  {
   "cell_type": "code",
   "execution_count": 6,
   "id": "b2fdf7ee",
   "metadata": {},
   "outputs": [
    {
     "data": {
      "text/plain": [
       "[{'type': 'open',\n",
       "  'side': 'sell',\n",
       "  'product_id': 'BTC-USD',\n",
       "  'time': '2020-10-06T00:15:06.735819Z',\n",
       "  'sequence': 16713057500,\n",
       "  'price': '10792.95',\n",
       "  'order_id': '0498bfb5-8b93-46ab-b121-64d6b891e0f1',\n",
       "  'remaining_size': '0.03455826'},\n",
       " {'type': 'received',\n",
       "  'side': 'sell',\n",
       "  'product_id': 'BTC-USD',\n",
       "  'time': '2020-10-06T00:15:06.735819Z',\n",
       "  'sequence': 16713057499,\n",
       "  'order_id': '0498bfb5-8b93-46ab-b121-64d6b891e0f1',\n",
       "  'order_type': 'limit',\n",
       "  'size': '0.03455826',\n",
       "  'price': '10792.95',\n",
       "  'client_oid': '746f1dfc-58bb-4ea0-b0d9-372cf32172ce'}]"
      ]
     },
     "execution_count": 6,
     "metadata": {},
     "output_type": "execute_result"
    }
   ],
   "source": [
    "filter_order_id_message(messages_data_filtered,'0498bfb5-8b93-46ab-b121-64d6b891e0f1')"
   ]
  },
  {
   "cell_type": "code",
   "execution_count": 15,
   "id": "f6811e38",
   "metadata": {},
   "outputs": [
    {
     "name": "stdout",
     "output_type": "stream",
     "text": [
      "{'order_id': '0498bfb5-8b93-46ab-b121-64d6b891e0f1', 'messages': [{'type': 'open', 'side': 'sell', 'product_id': 'BTC-USD', 'time': '2020-10-06T00:15:06.735819Z', 'sequence': 16713057500, 'price': '10792.95', 'order_id': '0498bfb5-8b93-46ab-b121-64d6b891e0f1', 'remaining_size': '0.03455826'}, {'type': 'received', 'side': 'sell', 'product_id': 'BTC-USD', 'time': '2020-10-06T00:15:06.735819Z', 'sequence': 16713057499, 'order_id': '0498bfb5-8b93-46ab-b121-64d6b891e0f1', 'order_type': 'limit', 'size': '0.03455826', 'price': '10792.95', 'client_oid': '746f1dfc-58bb-4ea0-b0d9-372cf32172ce'}], 'message_count': 2, 'has_open': True}\n"
     ]
    }
   ],
   "source": [
    "def difference_dict_create(difference_subli,messages_data_filtered):\n",
    "    order_id = difference_subli[2]\n",
    "    messages = filter_order_id_message(messages_data_filtered,order_id)\n",
    "    types_list = [D['type'] for D in messages]\n",
    "    return {\n",
    "        'order_id':order_id,\n",
    "        'messages':messages,\n",
    "        'message_count':len(messages),\n",
    "        'has_open':'open' in types_list\n",
    "    }\n",
    "\n",
    "def difference_array_create(difference_list,messages_data_filtered):\n",
    "    return [difference_dict_create(subli,messages_data_filtered) for subli in difference_list]\n",
    "\n",
    "difference_array = difference_array_create(difference_list_asks,messages_data_filtered)\n",
    "print (difference_array[0])"
   ]
  },
  {
   "cell_type": "code",
   "execution_count": 20,
   "id": "2b6a0e74",
   "metadata": {},
   "outputs": [
    {
     "name": "stdout",
     "output_type": "stream",
     "text": [
      "{'order_id': '642537c6-d66f-4bcc-8a00-6ee2ad422b27', 'messages': [{'type': 'open', 'side': 'buy', 'product_id': 'BTC-USD', 'time': '2020-10-06T00:14:57.859456Z', 'sequence': 16713054133, 'price': '10792.35', 'order_id': '642537c6-d66f-4bcc-8a00-6ee2ad422b27', 'remaining_size': '3.1'}, {'type': 'received', 'side': 'buy', 'product_id': 'BTC-USD', 'time': '2020-10-06T00:14:57.859456Z', 'sequence': 16713054132, 'order_id': '642537c6-d66f-4bcc-8a00-6ee2ad422b27', 'order_type': 'limit', 'size': '3.1', 'price': '10792.35', 'client_oid': '20201006-0000-0000-0002-000000004035'}], 'message_count': 2, 'has_open': True}\n"
     ]
    }
   ],
   "source": [
    "\n",
    "difference_array_bids = difference_array_create(difference_list_bids,messages_data_filtered)\n",
    "print (difference_array_bids[0])"
   ]
  },
  {
   "cell_type": "code",
   "execution_count": 21,
   "id": "c3570eec",
   "metadata": {},
   "outputs": [
    {
     "name": "stdout",
     "output_type": "stream",
     "text": [
      "[]\n"
     ]
    }
   ],
   "source": [
    "print ([D for D in difference_array_bids if not D['has_open']])"
   ]
  },
  {
   "cell_type": "code",
   "execution_count": 16,
   "id": "65008489",
   "metadata": {},
   "outputs": [
    {
     "name": "stdout",
     "output_type": "stream",
     "text": [
      "[{'order_id': 'c6be4839-3d3b-418e-b91a-b70ca6813d3a', 'messages': [], 'message_count': 0, 'has_open': False}]\n"
     ]
    }
   ],
   "source": [
    "print ([D for D in difference_array if not D['has_open']])"
   ]
  },
  {
   "cell_type": "code",
   "execution_count": 19,
   "id": "31a88248",
   "metadata": {},
   "outputs": [
    {
     "name": "stdout",
     "output_type": "stream",
     "text": [
      "0\n"
     ]
    }
   ],
   "source": [
    "print (len([D for D in difference_array if  len(D['messages']) > 2]))"
   ]
  },
  {
   "cell_type": "code",
   "execution_count": 18,
   "id": "7723bc4f",
   "metadata": {},
   "outputs": [
    {
     "name": "stdout",
     "output_type": "stream",
     "text": [
      "{'order_id': '8871aea3-f344-4b73-829c-509fbbde35e3', 'messages': [{'type': 'open', 'side': 'sell', 'product_id': 'BTC-USD', 'time': '2020-10-06T00:15:05.925908Z', 'sequence': 16713057198, 'price': '10793', 'order_id': '8871aea3-f344-4b73-829c-509fbbde35e3', 'remaining_size': '2'}, {'type': 'received', 'side': 'sell', 'product_id': 'BTC-USD', 'time': '2020-10-06T00:15:05.925908Z', 'sequence': 16713057197, 'order_id': '8871aea3-f344-4b73-829c-509fbbde35e3', 'order_type': 'limit', 'size': '2', 'price': '10793', 'client_oid': 'd1c4711f-cd86-4362-b499-0eea55a6379a'}], 'message_count': 2, 'has_open': True}\n"
     ]
    }
   ],
   "source": [
    "print (difference_array[2])"
   ]
  },
  {
   "cell_type": "markdown",
   "id": "d5b0d18b",
   "metadata": {},
   "source": [
    "## Filter Messages with Order\n"
   ]
  },
  {
   "cell_type": "code",
   "execution_count": 22,
   "id": "2da6280d",
   "metadata": {},
   "outputs": [
    {
     "name": "stdout",
     "output_type": "stream",
     "text": [
      "85161\n"
     ]
    }
   ],
   "source": [
    "print (len([D for D in messages_data_filtered if D['type'] not in ['open','received']]))"
   ]
  },
  {
   "cell_type": "code",
   "execution_count": 23,
   "id": "bbd0c1d0",
   "metadata": {},
   "outputs": [
    {
     "name": "stdout",
     "output_type": "stream",
     "text": [
      "{'type': 'done', 'side': 'sell', 'product_id': 'BTC-USD', 'time': '2020-10-06T00:00:05.810671Z', 'sequence': 16712804989, 'order_id': 'd98e69bd-aa7c-40ec-8c34-5087c20b86bd', 'reason': 'canceled', 'price': '10863.19', 'remaining_size': '0.04602702'}\n"
     ]
    }
   ],
   "source": [
    "print ([D for D in messages_data_filtered if D['type'] not in ['open','received']][0])"
   ]
  },
  {
   "cell_type": "code",
   "execution_count": 25,
   "id": "54399b53",
   "metadata": {},
   "outputs": [
    {
     "data": {
      "text/plain": [
       "[]"
      ]
     },
     "execution_count": 25,
     "metadata": {},
     "output_type": "execute_result"
    }
   ],
   "source": [
    "filter_order_id_clob(final_clob,'bids','d98e69bd-aa7c-40ec-8c34-5087c20b86bd')"
   ]
  },
  {
   "cell_type": "code",
   "execution_count": null,
   "id": "9befa482",
   "metadata": {},
   "outputs": [],
   "source": [
    "def order_ids_pull(orders_data_dict,asks_or_bids):\n",
    "    return [D[2] for D in orders_data_dict[asks_or_bids]]\n",
    "\n",
    "def messages_identify(messages_data,order_ids):\n",
    "    return [D for D in messages_data if 'order_id' in D.keys() and D['order_id'] in order_ids]\n",
    "\n",
    "order_ids = order_ids_pull(final_clob,'asks')\n",
    "messages_with_orders = messages_identify(messages_data_filtered,order_ids)\n"
   ]
  },
  {
   "cell_type": "code",
   "execution_count": 28,
   "id": "6d89f448",
   "metadata": {},
   "outputs": [
    {
     "ename": "IndexError",
     "evalue": "list index out of range",
     "output_type": "error",
     "traceback": [
      "\u001b[0;31m---------------------------------------------------------------------------\u001b[0m",
      "\u001b[0;31mIndexError\u001b[0m                                Traceback (most recent call last)",
      "\u001b[0;32m/var/folders/00/xr38cr8n7xd8vz3n5831t62m0000gn/T/ipykernel_13948/165685249.py\u001b[0m in \u001b[0;36m<module>\u001b[0;34m\u001b[0m\n\u001b[0;32m----> 1\u001b[0;31m \u001b[0mprint\u001b[0m \u001b[0;34m(\u001b[0m\u001b[0;34m[\u001b[0m\u001b[0mD\u001b[0m \u001b[0;32mfor\u001b[0m \u001b[0mD\u001b[0m \u001b[0;32min\u001b[0m \u001b[0mmessages_data_filtered\u001b[0m \u001b[0;32mif\u001b[0m \u001b[0mD\u001b[0m\u001b[0;34m[\u001b[0m\u001b[0;34m'type'\u001b[0m\u001b[0;34m]\u001b[0m  \u001b[0;32min\u001b[0m \u001b[0;34m[\u001b[0m\u001b[0;34m'change'\u001b[0m\u001b[0;34m]\u001b[0m\u001b[0;34m]\u001b[0m\u001b[0;34m[\u001b[0m\u001b[0;36m0\u001b[0m\u001b[0;34m]\u001b[0m\u001b[0;34m)\u001b[0m\u001b[0;34m\u001b[0m\u001b[0;34m\u001b[0m\u001b[0m\n\u001b[0m",
      "\u001b[0;31mIndexError\u001b[0m: list index out of range"
     ]
    }
   ],
   "source": [
    "print ([D for D in messages_data_filtered if D['type'] in ['change']][0])"
   ]
  },
  {
   "cell_type": "code",
   "execution_count": 29,
   "id": "17288578",
   "metadata": {},
   "outputs": [
    {
     "name": "stdout",
     "output_type": "stream",
     "text": [
      "{'type': 'match', 'side': 'sell', 'product_id': 'BTC-USD', 'time': '2020-10-06T00:00:06.680213Z', 'sequence': 16712805071, 'trade_id': 105017230, 'maker_order_id': 'a80cad71-1631-4e5f-964b-5d61eaa67dc0', 'taker_order_id': 'fe2e3e20-0a4f-46a2-b796-d7c178ae88a8', 'size': '1.1376', 'price': '10798'}\n"
     ]
    }
   ],
   "source": [
    "print ([D for D in messages_data_filtered if D['type'] in ['match']][0])"
   ]
  },
  {
   "cell_type": "code",
   "execution_count": 30,
   "id": "a6e52803",
   "metadata": {},
   "outputs": [
    {
     "data": {
      "text/plain": [
       "[{'type': 'received',\n",
       "  'side': 'buy',\n",
       "  'product_id': 'BTC-USD',\n",
       "  'time': '2020-10-06T00:00:06.680213Z',\n",
       "  'sequence': 16712805070,\n",
       "  'order_id': 'fe2e3e20-0a4f-46a2-b796-d7c178ae88a8',\n",
       "  'order_type': 'limit',\n",
       "  'size': '1.1376',\n",
       "  'price': '10798',\n",
       "  'client_oid': 'f4e5a9f7-5d42-4359-9d73-11445a55e9e8'},\n",
       " {'type': 'done',\n",
       "  'side': 'buy',\n",
       "  'product_id': 'BTC-USD',\n",
       "  'time': '2020-10-06T00:00:06.680213Z',\n",
       "  'sequence': 16712805072,\n",
       "  'order_id': 'fe2e3e20-0a4f-46a2-b796-d7c178ae88a8',\n",
       "  'reason': 'filled',\n",
       "  'price': '10798',\n",
       "  'remaining_size': '0'}]"
      ]
     },
     "execution_count": 30,
     "metadata": {},
     "output_type": "execute_result"
    }
   ],
   "source": [
    "filter_order_id_message(messages_data_filtered,'fe2e3e20-0a4f-46a2-b796-d7c178ae88a8')"
   ]
  },
  {
   "cell_type": "code",
   "execution_count": 33,
   "id": "96940274",
   "metadata": {},
   "outputs": [
    {
     "data": {
      "text/plain": [
       "[]"
      ]
     },
     "execution_count": 33,
     "metadata": {},
     "output_type": "execute_result"
    }
   ],
   "source": [
    "filter_order_id_clob(initial_clob,'asks','fe2e3e20-0a4f-46a2-b796-d7c178ae88a8')"
   ]
  },
  {
   "cell_type": "markdown",
   "id": "b4053afd",
   "metadata": {},
   "source": [
    "received \n",
    "opened then add to the order book of asks and bids\n",
    "if type done, then remove from the order book"
   ]
  },
  {
   "cell_type": "code",
   "execution_count": 34,
   "id": "bbad9c4e",
   "metadata": {},
   "outputs": [
    {
     "name": "stdout",
     "output_type": "stream",
     "text": [
      "83274\n"
     ]
    }
   ],
   "source": [
    "print (len([D for D in messages_data_filtered if D['type'] in ['open']]))"
   ]
  },
  {
   "cell_type": "markdown",
   "id": "070ea235",
   "metadata": {},
   "source": [
    "## open messages not in order book to show that those messages have a done stage after them"
   ]
  },
  {
   "cell_type": "code",
   "execution_count": 35,
   "id": "50cf1699",
   "metadata": {},
   "outputs": [
    {
     "name": "stdout",
     "output_type": "stream",
     "text": [
      "{'type': 'open', 'side': 'sell', 'product_id': 'BTC-USD', 'time': '2020-10-06T00:00:06.016022Z', 'sequence': 16712805023, 'price': '10849.9', 'order_id': '58523820-dafc-41cf-a7ab-a88427bbc4d0', 'remaining_size': '0.0460834'}\n"
     ]
    }
   ],
   "source": [
    "print ([D for D in messages_data_filtered if D['type'] in ['open']][0])"
   ]
  },
  {
   "cell_type": "code",
   "execution_count": 36,
   "id": "394afd5c",
   "metadata": {},
   "outputs": [
    {
     "data": {
      "text/plain": [
       "[]"
      ]
     },
     "execution_count": 36,
     "metadata": {},
     "output_type": "execute_result"
    }
   ],
   "source": [
    "filter_order_id_clob(initial_clob,'asks','58523820-dafc-41cf-a7ab-a88427bbc4d0')"
   ]
  },
  {
   "cell_type": "code",
   "execution_count": 37,
   "id": "c7b010ef",
   "metadata": {},
   "outputs": [
    {
     "data": {
      "text/plain": [
       "[{'type': 'open',\n",
       "  'side': 'sell',\n",
       "  'product_id': 'BTC-USD',\n",
       "  'time': '2020-10-06T00:00:06.016022Z',\n",
       "  'sequence': 16712805023,\n",
       "  'price': '10849.9',\n",
       "  'order_id': '58523820-dafc-41cf-a7ab-a88427bbc4d0',\n",
       "  'remaining_size': '0.0460834'},\n",
       " {'type': 'received',\n",
       "  'side': 'sell',\n",
       "  'product_id': 'BTC-USD',\n",
       "  'time': '2020-10-06T00:00:06.016022Z',\n",
       "  'sequence': 16712805022,\n",
       "  'order_id': '58523820-dafc-41cf-a7ab-a88427bbc4d0',\n",
       "  'order_type': 'limit',\n",
       "  'size': '0.0460834',\n",
       "  'price': '10849.9',\n",
       "  'client_oid': '63430ff0-e280-4e85-8e26-eaaefdecd107'},\n",
       " {'type': 'done',\n",
       "  'side': 'sell',\n",
       "  'product_id': 'BTC-USD',\n",
       "  'time': '2020-10-06T00:00:07.810902Z',\n",
       "  'sequence': 16712805421,\n",
       "  'order_id': '58523820-dafc-41cf-a7ab-a88427bbc4d0',\n",
       "  'reason': 'canceled',\n",
       "  'price': '10849.9',\n",
       "  'remaining_size': '0.0460834'}]"
      ]
     },
     "execution_count": 37,
     "metadata": {},
     "output_type": "execute_result"
    }
   ],
   "source": [
    "filter_order_id_message(messages_data_filtered,'58523820-dafc-41cf-a7ab-a88427bbc4d0')"
   ]
  },
  {
   "cell_type": "code",
   "execution_count": 38,
   "id": "1b4eb23c",
   "metadata": {},
   "outputs": [
    {
     "name": "stdout",
     "output_type": "stream",
     "text": [
      "135777\n"
     ]
    }
   ],
   "source": [
    "print (len([D for D in messages_data_filtered if D['side'] not in ['sell']]))"
   ]
  },
  {
   "cell_type": "code",
   "execution_count": null,
   "id": "52b47be7",
   "metadata": {},
   "outputs": [],
   "source": []
  }
 ],
 "metadata": {
  "kernelspec": {
   "display_name": "Python 3 (ipykernel)",
   "language": "python",
   "name": "python3"
  },
  "language_info": {
   "codemirror_mode": {
    "name": "ipython",
    "version": 3
   },
   "file_extension": ".py",
   "mimetype": "text/x-python",
   "name": "python",
   "nbconvert_exporter": "python",
   "pygments_lexer": "ipython3",
   "version": "3.10.0"
  }
 },
 "nbformat": 4,
 "nbformat_minor": 5
}
