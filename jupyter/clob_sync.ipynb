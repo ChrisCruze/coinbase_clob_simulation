{
 "cells": [
  {
   "cell_type": "code",
   "execution_count": 2,
   "id": "c6f8cbcb",
   "metadata": {},
   "outputs": [],
   "source": [
    "import gzip\n",
    "import json\n",
    "\n",
    "def messages_parse(data):\n",
    "    data_with_no_binary = str(data).split(\"'\")[1:-1][0]\n",
    "    data_list =[i for i in data_with_no_binary.split('\\\\n') if i != '']\n",
    "    messages_data = [json.loads(D) for D in data_list]\n",
    "    return messages_data \n",
    "\n",
    "def messages_read(file=\"../data/coinbase_BTC-USD_20_10_06_000000-010000.json.gz\"):\n",
    "    file_object = gzip.open(file, \"r\")\n",
    "    data = file_object.read()\n",
    "    messages_data = messages_parse(data)\n",
    "    return messages_data \n",
    "\n",
    "def snapshot_read(file=\"../data/coinbase_BTC-USD_20_10_06_00_00.json\"):\n",
    "    snaphsot_data = json.loads(open(file,'r').read())\n",
    "    return snaphsot_data\n",
    "\n",
    "def messages_filter(messages_data,initial_clob,final_clob):\n",
    "    messages_data_filtered = [message_dict for message_dict in messages_data if message_dict['sequence'] >= initial_clob['sequence'] and message_dict['sequence'] <= final_clob['sequence']]\n",
    "    return messages_data_filtered\n",
    "            \n",
    "messages_data = messages_read()\n",
    "initial_clob = snapshot_read(file=\"../data/coinbase_BTC-USD_20_10_06_00_00.json\")\n",
    "final_clob = snapshot_read(file=\"../data/coinbase_BTC-USD_20_10_06_00_15.json\")\n",
    "messages_data_filtered = messages_filter(messages_data,initial_clob,final_clob)\n"
   ]
  },
  {
   "cell_type": "code",
   "execution_count": 3,
   "id": "9ba3e53c",
   "metadata": {},
   "outputs": [],
   "source": [
    "import logging\n",
    "import queue\n",
    "#import data_load\n",
    "\n",
    "\n",
    "logging.basicConfig(level=20)\n",
    "logger = logging.getLogger()\n",
    "\n",
    "class OrderDictTable:\n",
    "    def __init__(self, order_items):\n",
    "        self.order_dict = {} \n",
    "        self.assign_orders_dict(order_items)\n",
    "        \n",
    "    def assign_orders_dict(self,order_items):\n",
    "        keys = [subli[2] for subli in order_items]#map(lambda price,size,order_id: order_id,order_items)\n",
    "        self.order_dict = dict([(order_id,order_item) for (order_id,order_item) in zip(keys,order_items) ])\n",
    "    \n",
    "    def get_values(self):\n",
    "        return self.order_dict.values()\n",
    "\n",
    "    def get_obj(self):\n",
    "        return self.order_dict\n",
    "\n",
    "class CLOB:\n",
    "    def __init__(self,clob):\n",
    "        self.bids_obj = OrderDictTable(clob['bids']).get_obj()\n",
    "        self.asks_obj = OrderDictTable(clob['asks']).get_obj()\n",
    "        \n",
    "    def order_remove(self,clob_bids_or_ask_dict,order_id):\n",
    "        removed_order = clob_bids_or_ask_dict.pop(order_id,None)\n",
    "        \n",
    "    def order_add(self,clob_bids_or_ask_dict,price,size,order_id):\n",
    "        clob_bids_or_ask_dict[order_id] = [price,size,order_id]\n",
    "        \n",
    "    def update_from_message(self,message_obj):\n",
    "        message_type = message_obj['type']\n",
    "        message_side = message_obj['side']\n",
    "        clob_bids_or_ask_dict = self.asks_obj if message_side == 'sell' else self.bids_obj \n",
    "        if message_type == 'done':\n",
    "            self.order_remove(clob_bids_or_ask_dict,message_obj['order_id'])\n",
    "        elif message_type == 'open':\n",
    "            self.order_add(clob_bids_or_ask_dict,message_obj['price'],message_obj['remaining_size'],message_obj['order_id'])\n",
    "        \n",
    "    def get_clob(self):\n",
    "        return {\n",
    "            'bids':self.bids_obj.values(),\n",
    "            'asks':self.asks_obj.values()\n",
    "        }\n",
    "\n",
    "\n",
    "class CLOBSync:\n",
    "    def clob_sync(self,initial_clob,messages_data_filtered):\n",
    "        clob = CLOB(initial_clob)\n",
    "        q = queue.Queue()\n",
    "        messages_queue_data = sorted(messages_data_filtered,key=lambda i: i['sequence'])\n",
    "\n",
    "        list(map(q.put,messages_queue_data ))\n",
    "        while not q.empty():\n",
    "            message_obj = q.get()\n",
    "            clob.update_from_message(message_obj)\n",
    "        final_clob_processed = clob.get_clob()\n",
    "        return final_clob_processed\n",
    "\n",
    "    \n",
    "updated_clob = CLOBSync().clob_sync(initial_clob,messages_data_filtered)\n"
   ]
  },
  {
   "cell_type": "code",
   "execution_count": 5,
   "id": "0a280a8c",
   "metadata": {},
   "outputs": [
    {
     "data": {
      "text/plain": [
       "True"
      ]
     },
     "execution_count": 5,
     "metadata": {},
     "output_type": "execute_result"
    }
   ],
   "source": [
    "\n",
    "def clob_length_test(final_clob,updated_clob,node='bids'):\n",
    "    final_count = len(final_clob[node])\n",
    "    updated_count = len(updated_clob[node])\n",
    "    is_equal = final_count == updated_count\n",
    "    return is_equal\n",
    "\n",
    "clob_length_test(final_clob,updated_clob,node='bids')\n",
    "clob_length_test(final_clob,updated_clob,node='asks')\n"
   ]
  },
  {
   "cell_type": "code",
   "execution_count": null,
   "id": "47c423e1",
   "metadata": {},
   "outputs": [],
   "source": []
  }
 ],
 "metadata": {
  "kernelspec": {
   "display_name": "Python 3 (ipykernel)",
   "language": "python",
   "name": "python3"
  },
  "language_info": {
   "codemirror_mode": {
    "name": "ipython",
    "version": 3
   },
   "file_extension": ".py",
   "mimetype": "text/x-python",
   "name": "python",
   "nbconvert_exporter": "python",
   "pygments_lexer": "ipython3",
   "version": "3.10.0"
  }
 },
 "nbformat": 4,
 "nbformat_minor": 5
}
