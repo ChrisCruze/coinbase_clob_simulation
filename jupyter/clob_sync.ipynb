{
 "cells": [
  {
   "cell_type": "code",
   "execution_count": 1,
   "id": "c2447bd6",
   "metadata": {},
   "outputs": [],
   "source": [
    "import gzip\n",
    "import json\n",
    "\n",
    "def messages_parse(data):\n",
    "    data_with_no_binary = str(data).split(\"'\")[1:-1][0]\n",
    "    data_list =[i for i in data_with_no_binary.split('\\\\n') if i != '']\n",
    "    messages_data = [json.loads(D) for D in data_list]\n",
    "    return messages_data \n",
    "\n",
    "def messages_read(file=\"../data/coinbase_BTC-USD_20_10_06_000000-010000.json.gz\"):\n",
    "    file_object = gzip.open(file, \"r\")\n",
    "    data = file_object.read()\n",
    "    messages_data = messages_parse(data)\n",
    "    return messages_data \n",
    "\n",
    "def snapshot_read(file=\"../data/coinbase_BTC-USD_20_10_06_00_00.json\"):\n",
    "    snaphsot_data = json.loads(open(file,'r').read())\n",
    "    return snaphsot_data\n",
    "\n",
    "def messages_filter(messages_data,initial_clob,final_clob):\n",
    "    messages_data_filtered = [message_dict for message_dict in messages_data if message_dict['sequence'] >= initial_clob['sequence'] and message_dict['sequence'] <= final_clob['sequence']]\n",
    "    return messages_data_filtered\n",
    "            \n",
    "messages_data = messages_read()\n",
    "initial_clob = snapshot_read(file=\"../data/coinbase_BTC-USD_20_10_06_00_00.json\")\n",
    "final_clob = snapshot_read(file=\"../data/coinbase_BTC-USD_20_10_06_00_15.json\")\n",
    "messages_data_filtered = messages_filter(messages_data,initial_clob,final_clob)\n"
   ]
  },
  {
   "cell_type": "code",
   "execution_count": 35,
   "id": "b0485208",
   "metadata": {},
   "outputs": [],
   "source": [
    "import logging\n",
    "import queue\n",
    "#import data_load\n",
    "\n",
    "\n",
    "logging.basicConfig(level=20)\n",
    "logger = logging.getLogger()\n",
    "\n",
    "class OrderDictTable:\n",
    "    \"\"\"\n",
    "        Convert Dataset into Dictionary\n",
    "    \"\"\"\n",
    "    def __init__(self, order_items):\n",
    "        self.order_dict = {} \n",
    "        self.assign_orders_dict(order_items)\n",
    "        \n",
    "    def assign_orders_dict(self,order_items):\n",
    "        keys = [subli[2] for subli in order_items]#map(lambda price,size,order_id: order_id,order_items)\n",
    "        self.order_dict = dict([(order_id,order_item) for (order_id,order_item) in zip(keys,order_items) ])\n",
    "    \n",
    "    def get_values(self):\n",
    "        return self.order_dict.values()\n",
    "\n",
    "    def get_obj(self):\n",
    "        return self.order_dict\n",
    "\n",
    "\n",
    "class CLOB:\n",
    "    def __init__(self,clob):\n",
    "        self.bids_obj = OrderDictTable(clob['bids']).get_obj()\n",
    "        self.asks_obj = OrderDictTable(clob['asks']).get_obj()\n",
    "        \n",
    "    def order_remove(self,order_obj,order_id):\n",
    "        order_obj.pop(order_id,None)\n",
    "        \n",
    "    def order_add(self,order_obj,price,size,order_id):\n",
    "        order_obj[order_id] = [price,size,order_id]\n",
    "    \n",
    "    def order_size_decrease(self,order_obj,order_id,size):\n",
    "        previous_size = order_obj[order_id][1]\n",
    "        new_size = str(float(previous_size) - float(size))\n",
    "        price = order_obj[order_id][0]\n",
    "        order_obj[order_id] = [price,new_size,order_id]\n",
    "        \n",
    "    def update_from_message(self,message_obj):\n",
    "        message_type = message_obj['type']\n",
    "        message_side = message_obj['side']\n",
    "        if message_side == 'sell':\n",
    "            order_obj = self.asks_obj\n",
    "        elif message_side == 'buy' :\n",
    "            order_obj = self.bids_obj\n",
    "        \n",
    "        if message_type == 'done':\n",
    "            self.order_remove(order_obj,message_obj['order_id'])\n",
    "        elif message_type == 'open':\n",
    "            self.order_add(order_obj,message_obj['price'],message_obj['remaining_size'],message_obj['order_id'])\n",
    "        elif message_type == 'match' and message_side == 'buy':\n",
    "            self.order_size_decrease(order_obj,message_obj['maker_order_id'],message_obj['size'])\n",
    "          \n",
    "        elif message_type == 'match' and message_side == 'sell':\n",
    "            self.order_size_decrease(order_obj,message_obj['maker_order_id'],message_obj['size'])\n",
    "            \n",
    "            \n",
    "    def get_clob(self):\n",
    "        return {\n",
    "            'bids':self.bids_obj.values(),\n",
    "            'asks':self.asks_obj.values()\n",
    "        }\n",
    "\n",
    "\n",
    "class CLOBSync:\n",
    "    def clob_sync(self,initial_clob,messages_data_filtered):\n",
    "        clob = CLOB(initial_clob)\n",
    "        q = queue.Queue()\n",
    "        messages_queue_data = sorted(messages_data_filtered,key=lambda i: i['sequence'])\n",
    "\n",
    "        list(map(q.put,messages_queue_data ))\n",
    "        while not q.empty():\n",
    "            message_obj = q.get()\n",
    "            clob.update_from_message(message_obj)\n",
    "        final_clob_processed = clob.get_clob()\n",
    "        return final_clob_processed\n",
    "\n",
    "    \n",
    "updated_clob = CLOBSync().clob_sync(initial_clob,messages_data_filtered)\n"
   ]
  },
  {
   "cell_type": "code",
   "execution_count": 18,
   "id": "e5fc9e22",
   "metadata": {},
   "outputs": [],
   "source": [
    "\n",
    "def messages_from_order_id(messages_data,order_id):\n",
    "    return [D for D in messages_data if 'order_id' in D.keys() and D['order_id'] == order_id]\n",
    "\n",
    "def match_messages_from_order_id(messages_data,order_id):\n",
    "    maker_orders = [D for D in messages_data if 'maker_order_id' in D.keys()  and D['maker_order_id'] == order_id]\n",
    "    taker_orders = [D for D in messages_data if 'taker_order_id' in D.keys()  and D['taker_order_id'] == order_id]\n",
    "    return maker_orders + taker_orders \n",
    "\n",
    "def orders_from_order_id(orders,order_id):\n",
    "    return [subli for subli in orders if subli[2] == order_id]\n",
    "\n",
    "def clob_length_test(final_clob,updated_clob,node='bids'):\n",
    "    final_count = len(final_clob[node])\n",
    "    updated_count = len(updated_clob[node])\n",
    "    is_equal = final_count == updated_count\n",
    "    return is_equal\n",
    "\n",
    "def list_difference_find(l1,l2):\n",
    "    return [order_subli for order_subli in l1 if order_subli not in l2]\n",
    "\n",
    "def clob_difference_test(final_clob_orders,updated_clob_orders):\n",
    "    difference_list_1 = list_difference_find(final_clob_orders,updated_clob_orders)\n",
    "    difference_list_2 = list_difference_find(updated_clob_orders,final_clob_orders)\n",
    "    return difference_list_1 + difference_list_2\n",
    "\n",
    "def clob_difference_test_messages_debug_base(l1,l2,messages_data):\n",
    "    difference_orders = list_difference_find(l1,l2)\n",
    "    difference_orders_id = [order_subli[2] for order_subli in difference_orders]\n",
    "    order_messages = [messages_from_order_id(messages_data,order_id) for order_id in difference_orders_id]\n",
    "    order_messages_match = [messages_from_order_id(messages_data,order_id) for order_id in difference_orders_id]\n",
    "\n",
    "    return order_messages + order_messages_match\n",
    "\n",
    "def clob_difference_test_messages_debug(final_clob_orders,updated_clob_orders,messages_data):\n",
    "    missing_order_messages = clob_difference_test_messages_debug_base(final_clob_orders,updated_clob_orders,messages_data)\n",
    "    return missing_order_messages\n",
    "    \n",
    "def run_tests(final_clob,updated_clob):\n",
    "    bids_difference = clob_difference_test(final_clob['bids'],updated_clob['bids'])\n",
    "    asks_difference = clob_difference_test(final_clob['asks'],updated_clob['asks'])\n",
    "\n",
    "    bids_length_equal = clob_length_test(final_clob,updated_clob,node='bids')\n",
    "    asks_length_equal= clob_length_test(final_clob,updated_clob,node='asks')\n",
    "    \n",
    "    #logger.info('bids_difference: %s', str(bids_difference))\n",
    "    #logger.info('asks_difference: %s', str(asks_difference))\n",
    "\n",
    "    logger.info('bids_length_equal: %s', str(bids_length_equal))\n",
    "    logger.info('asks_length_equal: %s', str(asks_length_equal))\n",
    "\n",
    "    \n",
    "#missing_order_messages = clob_difference_test_messages_debug(final_clob['bids'],updated_clob['bids'],messages_data_filtered)\n",
    "\n",
    "#run_tests(final_clob,updated_clob)"
   ]
  },
  {
   "cell_type": "code",
   "execution_count": 6,
   "id": "335fb721",
   "metadata": {},
   "outputs": [
    {
     "name": "stderr",
     "output_type": "stream",
     "text": [
      "INFO:root:bids_difference: [['10788.93', '2.80522372', '4c53de3f-b8e4-4538-9efb-11d324615719'], ['10788.8', '3.08320458', '52c9f4ec-9a87-4676-beb1-cc628e578fb9'], ['10800.05', '0.001', '9ee2c3ef-0309-406d-a0a0-c0e1599cd9b6'], ['10850', '0.1', '6f4dbd88-e19a-4fec-aec4-efd433acb663'], ['10800', '0.01909259', '2301bb39-3679-41f8-8e64-bfdf1aca94d2'], ['10900', '0.2', '5d862b33-a4b8-469f-9366-d535a15a3ed1'], ['10800', '0.00102408', '93301e06-0b0b-458b-a927-bc143e5133f0'], ['10819.55', '0.004', '6c16977f-0d40-417a-a1d7-a21ac15571f7'], ['10800', '0.006', '80a272cd-c667-451e-9d7e-209a8c60315a'], ['10800', '0.026', 'e3dd375b-565a-4f50-943f-5c63fd0dae69'], ['10808.6', '4.4', '4d1555bf-6129-4be1-bf3d-44833dfa0ad7'], ['10810', '0.09', '84af99b1-497f-45eb-bb57-e4bbba303aeb'], ['10802.78', '0.00368648', '5041b1fe-dde0-45ce-a8f7-15a88bfce5d1'], ['10803.13', '0.00368647', 'eacb1091-f1fb-412d-8339-62f0f1cd202e'], ['10812.45', '0.00368633', 'd7ea2861-26e8-48da-a214-2c8cfb19ff20'], ['10802.88', '0.0036865', 'efe104eb-bc6c-49d1-8871-e860bfee4c77'], ['10803.59', '0.01105954', '05f672a0-0b4b-4e3d-87a7-fd513c289819'], ['10814.03', '0.00737256', '3b2cac4f-cffd-43a9-acad-190558e8b3d1'], ['10802.27', '0.00368649', '27a93310-79b2-4744-9743-a1cb7f0a421b'], ['10800.99', '0.00368283', 'c3924b6b-a3cc-46bd-a31f-9f37e7b7a6c4'], ['10815.17', '0.00183127', 'd3e4bd7d-306e-4e1c-95c5-4358494797e5'], ['11800', '0.15', 'bd35ddf3-5acf-4b8d-859c-3c44e658fd32'], ['10847.55', '0.02', '37035dbc-9274-4163-a25f-453b7c8a9c8c'], ['11385.48', '0.202', '7bbccc1f-8ed5-444e-a920-c6dd5308bfce'], ['10850', '4.51331685', '108ef512-d31a-49f0-9f8a-7297e48c20cd'], ['10801.53', '0.81498997', '314e708e-91b2-4d4d-a3c7-792b82626d00'], ['10805.57', '3.85', '9f6e4f8a-228f-4e3d-9031-09059de0078b'], ['10802.5', '0.00100031', 'fa1f44e9-cf85-4b4b-be36-a682ce33a5c8'], ['10805.5', '0.00100003', '389e6e7d-8f48-4aab-98f6-82c2ce1e7f84'], ['10845', '0.04', '2aa3808f-585e-4f54-bd6f-fadc29b455ba'], ['10808.5', '0.00100068', '05800884-dce2-4251-b0a0-5a9c9bcdbdc1'], ['10811.5', '0.0010004', '3c0745c5-8cdb-4c11-af4d-e786e92b1833'], ['10810', '0.4', 'ea243227-36cb-41a5-b0cb-44d6ff1fe3c7'], ['10814.5', '0.00100013', 'f90a2125-d364-4d7f-adb5-def13ae87d34'], ['10817.5', '0.00100077', 'a64bf2c1-99f9-409f-8837-037998b9f46c'], ['10820.5', '0.0010005', 'da722484-3810-4ec2-a235-cde42ce99ef0'], ['10823.5', '0.00100022', 'd1fbd24b-80c0-4498-9739-5939699bea1d'], ['10829.5', '0.00100059', '03113903-c640-47f0-a0bf-4c2d651811e0'], ['10832.5', '0.00100031', '723de069-f428-42e4-9e0c-604390dfff86'], ['10835.5', '0.00100004', 'f5521512-ac57-476c-b2b7-2dcd08c618dc'], ['10838.5', '0.00100068', '99350393-df56-4de1-8bc9-14c64c09afb8'], ['10841.5', '0.00100041', '068d9ed5-e761-43ab-b52d-0c51a23397d7'], ['10803.15', '5.02', 'debf4beb-264a-4bbc-a7a0-d61a0f55fdaf'], ['10865', '0.05', 'c221401d-28da-4462-ab89-cdddca934171'], ['10844.5', '0.00100013', 'aaea3ae9-bda1-4ca7-bd91-8fcbad81d706'], ['10880', '1', 'af761c95-e635-4149-8ef2-836d68c7b5ab'], ['10847.5', '0.00100078', 'c6d95484-36c4-4fa2-9d02-dcd28596619d'], ['10850.5', '0.0010005', 'c00a55f0-da5c-41ac-bb02-209b89307708'], ['10798.41', '0.25', '8f75b7a9-2c1b-4705-b36e-ff07e6b90477'], ['10853.5', '0.00100022', 'd9c0edb2-903d-4a6b-933d-0e22f8a2c523'], ['10856.5', '0.00100087', 'd2e57a23-c5ff-4683-8a6b-ff5afaf47f64'], ['10859.5', '0.00100059', 'eb882138-2570-47a1-b4cf-e53547940128'], ['10862.5', '0.00100031', '5956d5ac-83d6-463e-aed5-50b1aba65d3e'], ['10865.5', '0.00100004', '73987349-f35a-4ec1-b94f-7de8e78afad8'], ['10795.84', '0.00100093', '68d9c50d-632b-44ed-9d25-af803f094444'], ['10796.84', '0.00100084', '5b305c10-1cd9-4305-8f3c-c9eeddb85b58'], ['10797.84', '0.00100074', 'e26ee65f-5b85-4ad2-be3d-7b0d57b983c7'], ['10798.84', '0.00100065', '3b82641f-4160-4dd9-9c6a-321edc688503'], ['10799.84', '0.00100056', 'abb88d04-d319-4e68-a760-8853ad6b2549'], ['10800.84', '0.00100046', '6648fc71-195f-42aa-ab3b-67e7308921a4'], ['10799.89', '1.74', '4c387763-27fe-4e93-aff4-42a3b80470bd'], ['10805', '10', '42b67394-232d-4788-9dd7-0da2070d766d'], ['11260', '0.25836172', 'd44f6be2-0b22-4a61-8419-5054cf859374'], ['10811.33', '5.24', '304caa4f-eeb6-4b61-a07d-c8065a3b9cf6'], ['10818.47', '0.00183123', '90ae20f6-c419-43df-8cc8-90c82ff06ab0'], ['10819.49', '0.00183118', 'ad22646d-a320-4b5f-afd5-b9ccafa4d240'], ['10819.01', '0.00183126', 'c35a93b2-2184-421d-b159-c4cc2957a585'], ['10820.25', '0.00183106', 'a5e45816-2962-429b-beb7-773ba5b1769a'], ['10820.71', '0.00183111', '7330acea-654c-4d94-9533-5df8d3eccb94'], ['10813.69', '4.9', 'cf925c11-cb41-4193-b640-3e3a8814c7d7'], ['10821.22', '0.00183096', '3b443c10-e6de-4658-8e6f-0750bd5415e0'], ['11000', '1', '8a2a1907-6c2d-4baa-b74f-53ef529ffe0f'], ['10950', '0.4', '6d86a135-1c9f-4644-8476-3aa7b5575353'], ['10802.86', '0.00152338', 'd60c9bf6-b4b9-4034-ac77-268e98b90276'], ['10802.87', '0.00115157', '5ae8aaf3-835d-4068-a51e-1bd176dfef53'], ['10802.88', '0.00198702', '37fdd29e-fb94-4a5d-8b59-64b0f6848cee'], ['10802.89', '0.00133941', '067361fc-bc94-4589-9dd9-dc23fbc27bb2'], ['10802.9', '0.00189136', '6b52ca70-cb21-4f72-a5e9-925c95537c3f'], ['10802.91', '0.0017051', '70fb05ec-b016-4ac7-a6db-d103a68dab4e'], ['10802.92', '0.00235728', 'b861c1d6-a398-4a5f-919a-ba22d3494b20'], ['10802.93', '0.00133569', '6980e6ca-5918-4ec1-9ff1-602cfbddd2be'], ['10833.87', '0.002', '521b1e35-b28d-42f9-9e86-f99c4ff1e27d'], ['10823.5', '0.00100022', 'd23c798a-5f5e-4735-958c-58c4c7ca5653'], ['10826.5', '0.00100087', '4ed055a5-f588-4efe-8086-1ee589c8128a'], ['10844.9', '19.9654', 'f9fdbbee-3e07-4470-be1e-f7917f653cc7'], ['10822.59', '0.00366171', '3ceb14e9-fe48-4ee4-b720-d1fa1e6aa8a5'], ['10821.84', '0.00183075', '1cc844ba-6a76-4917-9f67-347bdb0a2464'], ['10816.22', '4.6', '0ad29667-708b-4937-a132-5a7bf5e2d2ee'], ['10822.2', '0.00366162', '72464554-18b0-4855-ac9e-edde3ae2744f'], ['10824.35', '0.00366148', '16559cc2-ff81-4b2b-b522-8ae306ca4ee4'], ['10824.6', '0.00183078', '8d6b9f8e-aa90-49e1-bc62-5c17326c7b20'], ['10823.73', '0.00183086', 'd896daed-c920-45b9-96b4-c473cccf8c8b'], ['10824.25', '0.00183079', 'a0bcb5ae-cfc3-4bd4-82b3-925895aed204'], ['10788.8', '3.1', '52c9f4ec-9a87-4676-beb1-cc628e578fb9'], ['10825.24', '0.00183086', '8fcc0bc0-fbcc-4b30-8459-d64f0a3b7994'], ['10825.53', '0.00183074', '471c41f0-ab29-4c7f-a555-f799518758a1'], ['10803.91', '0.01', '8bfbcf8f-bf9d-4150-80f2-b05b5e182ca2'], ['10788.93', '3.1', '4c53de3f-b8e4-4538-9efb-11d324615719'], ['10802.43', '0.665', '67572b32-45df-4c03-a90b-13348590bc40'], ['10800.13', '0.9237', '62375a3f-ac72-4931-8111-1b10567ec912'], ['10812.65', '0.596', '0b5755fb-0f54-404f-aa6f-329f316990b0'], ['10800.42', '0.25', '73f16033-8a00-4c12-97f3-7897a0f74b1e'], ['10818.54', '3.6', '6baa4493-8f42-4b1c-8080-36a6364e2363'], ['10805.82', '0.09254272', '941db831-e7d4-4715-b9ab-a561da536754'], ['10806.23', '0.1988', '8c87e1de-3163-459e-83e7-1aee51d4c773'], ['10803.9', '0.09255917', 'fac5725f-64aa-4365-af44-ce36e3964025'], ['10803.38', '0.9172', 'af9cf990-ea46-48fd-82bc-e5ef4ee4c1a4'], ['10846.81', '0.02233521', '15f51b3c-6f83-48ac-9eca-43ba096ec739'], ['10821.8', '4.33', '0d520cfb-1d0c-4a13-8ffb-73037b27ae75'], ['10812.64', '0.231211', '6eb78dfd-cb18-4071-b69d-c203a3bc484b'], ['10806.07', '0.3', '785c5ed0-21a5-4bc1-ac51-6d7f2ca59802'], ['10799.02', '0.27789', '946bba94-2043-4b92-a47b-1b0c1acf709a'], ['10802.25', '0.27789', '26ee090a-c977-4336-a5e8-12493a338d83'], ['10798.38', '1.654', '758a4899-506f-48a0-b9df-6b36ab2512d4'], ['10827.32', '1.9732', '3f36166e-bef2-4c69-b29e-1bd3b6fe1ae2'], ['10799.02', '0.27789', '7e84ca79-ed0f-465e-9cfe-a5d8a816b864'], ['10798.37', '0.06382321', '25d689f2-0f56-478e-87aa-e06c1c1a175b'], ['10801.68', '0.25', '583e1c45-6f89-405a-8940-900ff206043b'], ['10909', '0.01', 'db645cf9-0afd-45cd-b82c-f2b5d562fd77'], ['10796.48', '0.27786', '508a8890-43ef-41af-b935-c3eb305b19ff'], ['10800.79', '3.3', '70b0b6c5-a212-4a25-9fac-d8888a191cfe'], ['10823.47', '0.16939384', '1e4f30ce-3bc3-4160-a89d-83c70a8dd21a'], ['10836.64', '7.75327915', 'ecdf57c1-4b6e-4cc4-b7a7-b2a28acb0bf2'], ['10796.4', '0.1', '2db94343-dc05-45b3-88c5-970b8a79ebc6'], ['10823.68', '24.728', '2474490f-8f08-45e3-b50b-49a904e03bc8'], ['10799.18', '2.5', '238aa383-2bf2-42fd-a3b5-92f357d60bd8'], ['10804.44', '0.9113', 'ac1616c4-7111-4d0e-90db-506c8ece8259'], ['10831.71', '0.90667794', 'c7505424-077f-4222-8e2b-d50b161205ff'], ['10834.54', '0.0213975', '4dc6b459-b758-49b1-a527-2334d623d305'], ['10820.01', '1.0841668', '6c61e5e7-5431-4ee6-a5e5-dede0d373325'], ['11032.43', '20.63', 'e095a90e-467e-4aaa-a45f-8e1227d4a796'], ['11015.99', '20.99', 'cd464c55-d4d9-4a8c-9c1a-98c537d2e1f0'], ['11004.47', '26.79', '92722034-9a04-4cbd-bdc6-d27bfff56937'], ['10986.56', '22', 'c971751e-ef0d-4dd4-9798-260bcc999c72'], ['10807.52', '7.632', '5fc340c1-c847-45a4-b492-931dcd9afc77'], ['10796.95', '2.04031739', '8b40b7fb-5a94-4971-adf0-088819f17bc5'], ['10975.75', '24', 'b873ed96-276c-4470-aaaf-bf3432e0f96c'], ['10825.78', '0.021475', '70e46cb5-4e14-4761-8b5f-8927a1e77c02'], ['10832.86', '1.07832984', '51d82d19-67dc-48cf-bc43-230805dfaa90'], ['10831.91', '1.17297075', 'ff42ddbe-0692-4f14-aaa1-1271b051af30'], ['10805.4', '1.14057137', '18428b3e-5b9e-4133-90da-024eade65a97'], ['10958.33', '21', 'dd61d5ca-19c3-4a8c-aa00-5fcc34707a96'], ['10819.22', '1.30437149', '91eb97e2-641a-4c9e-a9bb-ed5ee751a9b9'], ['10812.14', '1.23609505', '8c4c9027-52c1-4905-9b49-3afc4231b9c2'], ['10820.99', '0.6097', '852ca265-0761-4f4a-bc57-9895476b08dd'], ['10800.16', '1.1611', 'a4857d6a-4cb8-4e02-ad66-0c142f5eef60'], ['10949.19', '23.3', 'e661af30-2ba4-4b19-bb36-30d337e2393a'], ['10933.97', '26.15', '66ece607-e237-4089-919d-362d6e85443c'], ['10922.09', '25.29', '54304354-2d2a-4d24-85c4-2118b5a55eed'], ['10803.68', '0.01', 'b5f3d64f-af3f-40a8-9978-65e14fe6b750'], ['10794.13', '2', 'f1ee393f-ff29-4b6a-940c-2a7e24000a4c'], ['10795.91', '10.494', '41ff2b10-d3bc-48ef-8b25-51ab495c7a0e'], ['10793.56', '2', 'aed9ee76-7e0b-461c-a9cd-2e7f1e396051'], ['10818.52', '0.1545', '4b2d125c-8d3b-42cb-8f03-82ba3da2b3c4'], ['10903.87', '21.62', '03432b1e-c634-478a-a618-d0f896b8ae06'], ['10793.56', '2', '30ffce63-2a74-4293-8ddb-fe3cf1e16da5'], ['10821.58', '1.30499159', '82cc2648-203a-48b9-a829-c19cdab82697'], ['10798.37', '0.49571054', '86b26f2a-b0bf-47b6-88aa-45626bb692ee'], ['10890.63', '20.91', '06e1ee39-0dd0-4cab-be71-ac75de6a18f7'], ['10797.55', '4.24', 'd6ccdf34-21c8-4a53-81a3-c78635b07ec5'], ['10795.27', '0.2', '51c7009e-6d75-4b10-9490-9614077cf3a0'], ['10819.6', '0.74036975', '82b55715-2108-44df-be83-458d387adb70'], ['10794.73', '0.24407676', 'c5d2f273-cb58-41d7-95be-c4e145dc020f'], ['10806.41', '1.02941001', 'ef6b3f12-708f-4bca-9e37-3bc18582d5b2'], ['10882.33', '23.76', 'd5b7a1ca-0284-4416-b76c-e5c321accd51'], ['10794.05', '0.11', '21ba7ac2-3800-4bff-963a-45dc3fad1f38'], ['10793', '2', '8871aea3-f344-4b73-829c-509fbbde35e3'], ['10837.65', '0.01', '35b8867b-2f0d-425d-bd0b-fff8f735d6b5'], ['10794.44', '0.1829', 'ecb1beb1-744c-46d3-bb12-ff2191a98108'], ['10795.72', '0.4572', '9383c600-ffc9-47c0-b005-a8cd1c314910'], ['10798.39', '0.9143', '31f049f5-18f2-493f-9266-e868e4f64e86'], ['10793', '2', 'bffecefd-dd2a-416e-840f-668a3eccc04d'], ['10793.53', '0.5', 'c072bca1-1950-46a9-a053-f511b2af37d7'], ['10802.23', '1.387', 'bd97d6a5-246d-4d9d-abb3-1d2da74ea199'], ['10804.63', '0.459', '790c670c-c5a8-40bc-a095-a91a8baa39f7'], ['10826.45', '0.01911169', '27434043-1888-44c0-bfd8-72c824f84bcf'], ['10792.95', '0.03455826', '0498bfb5-8b93-46ab-b121-64d6b891e0f1'], ['10792.95', '0.20780174', 'bfeb9577-1174-4864-a841-cd1490b5c698'], ['10803.12', '0.02066548', 'b08b7f96-eb40-41c0-a6f2-3603970ec930'], ['10803.12', '0.02066548', '2e56cdfc-bf1d-45df-89ee-86c22d58394d'], ['10803.12', '0.02845902', 'baa6e6e8-2f61-4e97-8824-d32ce0514c94'], ['10858.26', '0.46047935', '9f583594-f7a2-485e-b1da-b5ce87737b9c'], ['10847.94', '0.02211089', '6362795f-e123-48f6-8819-3242e14b4335']]\n"
     ]
    },
    {
     "name": "stderr",
     "output_type": "stream",
     "text": [
      "INFO:root:asks_difference: [['10793', '1.95938089', '8871aea3-f344-4b73-829c-509fbbde35e3'], ['10800', '5.84856151', 'c6be4839-3d3b-418e-b91a-b70ca6813d3a'], ['10800', '25', 'c6be4839-3d3b-418e-b91a-b70ca6813d3a'], ['10772.29', '0.0066', '17a2a1cc-f172-4dc6-8b80-d8f9dc440314'], ['10769.14', '0.0066', 'b136a373-2a67-4d9a-94c5-7060aa59723e'], ['10761.25', '0.0066', '9a91dbe9-69be-48c7-9d51-f6f8ac3b6df5'], ['10747.07', '0.0066', 'ec6df847-219f-47e8-a127-a6b76586144d'], ['10731.33', '0.0066', '2214dbea-5014-4e96-94db-fb599264864b'], ['10715.62', '0.0066', '795d8b7b-af03-4f17-9d4f-57537f2b1dd3'], ['10699.93', '0.0066', 'bd69509e-692a-4825-bb2c-eeb8640f52b5'], ['10684.27', '0.0066', '2f610b20-e7fc-4b9a-b464-a2e745df5882'], ['10120', '0.00245807', '38f95011-ba99-406a-ae2f-5dbbb1750ece'], ['5600', '0.03554014', 'ac6946a5-a1f1-4dd8-922b-8b2faa0eb335'], ['10772.63', '5.1', '7aaf31a8-6857-401c-ba8f-05e081aa31a4'], ['10551.24', '0.013', '6abc5142-2dad-4f61-8081-6cfca2580caa'], ['9910', '1', '0b17d02d-8d3e-47ff-b0de-a94ee3d4ec83'], ['10775', '0.01140594', '2a7a97cc-e499-429a-a1a9-45b73c768c52'], ['10769.91', '4.7', 'c09aa284-0cc9-4fa3-ada5-6818f7653321'], ['10766.73', '4.1', 'e7dfacbb-8c40-43ad-9bf6-2f357496a71f'], ['10705.57', '0.04654176', '51efb7e9-1a07-43de-9281-b56cae9a7ab3'], ['10765.92', '1.48', 'd1ed88bf-7104-477b-acf4-9ea515277023'], ['10620', '0.001', 'ac27d8a7-57ff-4380-a183-e188f533fbba'], ['10737.44', '0.00100063', '225ff363-9b3a-4f57-8fd5-4fbd750b78a2'], ['10630', '0.001', 'd08d0343-cc95-4b8a-af05-718b8b2577cd'], ['10600', '0.04693514', 'a15ba9e6-4e86-4362-9223-db612720bf1f'], ['10735.44', '0.00100082', '90cc0d2a-c716-4c01-bede-909191635807'], ['10733.44', '0.001001', '1a504c7a-42bb-4ac0-8c83-03fd10f677b8'], ['10731.44', '0.00100119', 'a72b04be-1ce1-4d56-851b-be86599d9475'], ['10729.44', '0.00100044', 'e43afb88-f15d-47fe-b0f4-a7494a3ce6d3'], ['10727.44', '0.00100063', '52eb70b4-8ecd-4a00-8034-8997636dc287'], ['10725.44', '0.00100082', '3bf35944-22e7-4a1c-ae0d-7e76253af186'], ['10723.44', '0.001001', 'bb966e83-c80c-4f84-9f1a-ff65320da65b'], ['10721.44', '0.00100119', 'f4728b98-8415-4252-a675-64bff4568979'], ['10450', '0.04881811', 'ae149ba6-f99c-4a50-b66b-ccf90ffb3b11'], ['10502.07', '0.03', '6c0f4a23-872e-4b62-8eec-c5f9b1a269ae'], ['10719.44', '0.00100045', 'e13585f2-dfd4-4b1c-ba34-a989c0ea33da'], ['10685.19', '0.0858', '8f1bf242-dc51-457e-bb43-aa5a34fab548'], ['10340', '0.25', '975dd7ce-19b9-4e07-ae27-2e652e88480a'], ['10717.44', '0.00100063', '15e5f541-2cf3-44c7-9787-92cfe322a4fc'], ['10777.55', '0.05797758', 'ffca5e01-dcbe-45ab-b93f-12b328dda418'], ['10777.55', '0.09562175', '939dfca6-b7d5-442b-917a-5b031714d675'], ['10777.55', '0.00992886', '57152c22-2c2d-4795-a3a6-945a7f6d348c'], ['10778.45', '0.06304435', 'd984ad22-daa2-4ef2-aef6-77f988e5219f'], ['10778.45', '0.03145298', '121ff584-d51a-433c-ada9-b1c5ccae058f'], ['10715.44', '0.00100082', '5b5dfed2-d09a-4b00-a0b0-4a47d055a901'], ['10713.44', '0.00100101', 'fa329ab8-ac07-4511-a950-935e33e2c1f2'], ['10711.44', '0.00100119', 'f645cbe7-e5e2-4ac4-9cd8-8f5e90aa898a'], ['10774.88', '4', '22d6239e-578e-4063-b0c7-27b50c867f8b'], ['10709.44', '0.00100045', 'de452fc7-709c-4565-b775-5ad4e460153c'], ['10707.44', '0.00100063', '7978b616-dfd2-4244-b974-fc9a7a8d3c5b'], ['10705.44', '0.00100082', '2b0201be-52d3-484d-a844-b982d63c396f'], ['10703.44', '0.00100101', 'f35b930b-a1a0-446e-8228-360bcc74d046'], ['10701.44', '0.0010012', '817f9f9c-9537-45e4-a88e-377fd133d642'], ['10699.44', '0.00100045', 'da432425-2cdc-42a8-8f14-6c7da3303bca'], ['10697.44', '0.00100064', '6985e19c-face-43fe-b76b-e7d0b5e1e6cb'], ['10695.44', '0.00100082', 'cb10d116-52e7-4ed5-95ea-f08a61dd2178'], ['10693.44', '0.00100101', '31bc8901-3091-4daa-b1fb-9f1f2e9ef918'], ['10691.44', '0.0010012', '032e2e83-9b0e-43bb-9fe0-26b02f6cdb47'], ['10689.44', '0.00100045', '9f5150aa-2846-43a8-99aa-a95d0c70a128'], ['10687.44', '0.00100064', '039e63cf-75cb-46a5-a850-894a17ec9cd7'], ['10685.44', '0.00100082', '4cc5b52a-ccd6-49ff-9f4e-a2926b46fa03'], ['10683.44', '0.00100101', '7d1092fa-c3e0-4f18-b1fe-287b1cc8e1ca'], ['10681.44', '0.0010012', 'd12dd58f-ce6a-4677-bcc6-1e756c888b9c'], ['10777.62', '3.81', '0e77d3d4-c833-4a03-9cdf-5c43e7aa10b6'], ['10779.04', '0.02', 'd4bad8a9-621d-48c4-b62a-e831b101e830'], ['10583.68', '0.00517916', '24f987b8-f01d-4c7e-81d6-15aba0a0ef57'], ['10782.82', '0.00657103', 'b59188ae-1391-4c4f-a9f1-b0fc782c8647'], ['10707', '13.79193774', '9db0e425-e1b9-414d-818f-2c568ebeeca5'], ['3875', '8.27680063', '72aa8272-bf12-4669-a12d-c056be8de4da'], ['10736', '0.005', '2ae2ce50-1b30-43fe-b3f6-6574b043e25d'], ['10758.38', '0.002', '0dd3cf98-22d0-4582-9ed3-64189a09b22f'], ['10672.09', '0.002', '31233d20-524c-4c6f-85ac-6318463b7a83'], ['10715.24', '0.002', 'b932e30a-a6a6-4467-88ef-3baac053f4fb'], ['10736.81', '0.002', '3a91d248-2e02-4630-baf1-d71eab208cab'], ['10693.66', '0.002', '3e0f8a49-bc36-4b42-997d-5d831b958e7d'], ['10628.95', '0.002', '2e490398-c658-4486-b2c5-c64ef7ddcdde'], ['10564.24', '0.002', '7a32c81d-fbac-4187-b7ba-1e8c9af2d8fb'], ['10607.38', '0.002', '3d0b667d-0e38-4b90-ae30-ad6b3c9466b0'], ['10705', '10.07350109', 'ee147719-49b5-4c55-bc7f-a1efa8a074ce'], ['10581.72', '0.12764', '5d5d6df2-8c95-4094-81b3-d0d360bae150'], ['10504.72', '0.58539', 'a514ce74-c803-44d8-a55c-6801170a8d7c'], ['10778.9', '0.06388254', 'c78f9843-4f0c-4d01-9b75-734d033fe0c9'], ['10757.74', '1.9732', 'b3503893-aed9-493a-bfda-690243992926'], ['10768.52', '0.596', '464921ce-4f96-4934-869b-9f9478f3697f'], ['10730.77', '19.9654', '816c6b12-fad8-4041-bb29-5dacfdea580b'], ['10556.74', '2.796934', 'c58bb517-7f61-495e-aac9-f27e901ce047'], ['10776.61', '0.1988', 'fa035d1b-f104-4745-8495-50e75091bb0b'], ['10728.69', '0.00100051', 'd3b82a66-e858-4c11-a90a-127073e711be'], ['10780.64', '5.1', '8ea125e1-ffbc-4748-8451-6ce33fbcd8bc'], ['10726.69', '0.0010007', '8f2d4f22-5fbf-4d79-b9aa-18cbad5f0d2c'], ['10785.49', '0.28645878', '11ca7a6b-cf1e-4156-80c7-2e46924543ab'], ['10505.87', '0.05', '14525b9d-b0d0-4033-acb8-81d6336e34d6'], ['10515.87', '0.04', '512e226f-16a6-4c8f-b768-d76043085f38'], ['10525.87', '0.04', '97261b7d-ea66-4848-a305-9624572138ce'], ['10788.8', '3.1', '52c9f4ec-9a87-4676-beb1-cc628e578fb9'], ['10783.08', '0.9271', '44748963-cece-4e57-872a-b38b3b4f0b9e'], ['10778.02', '0.009', '1a97c03f-edb3-481e-839b-af61f68d8c1d'], ['10788.93', '3.1', '4c53de3f-b8e4-4538-9efb-11d324615719'], ['10763.82', '3', '62f3e1a5-332f-4799-85f0-78d884dc59c7'], ['10779.79', '0.27829', '9c09f98d-56b7-49ff-a273-0d4387933c08'], ['10788.94', '3.1', 'db0737ad-8b00-4224-a806-25129ea0ac9f'], ['10789.18', '3.1', 'c5fd4f7c-d1f9-4848-aafe-54712e0371cf'], ['10782.88', '4.8', '0e2b0117-89ed-42fb-909e-dbf88b39ceee'], ['10789.6', '3.1', '45971a7b-7921-4a60-840e-e14c8d1d7066'], ['10787', '0.18448593', '3d7a838f-4251-4792-999e-54ce13ee2c32'], ['10773.07', '1.03', '5dfb4907-574b-4399-942b-c6c4f205bed3'], ['10749.74', '0.03524999', '646d0880-189c-4bf3-9cbf-7e6283cea721'], ['10782.06', '0.27823', 'c1baec9d-9c17-46b8-8fbd-6752ae674f50'], ['10789.61', '3.1', '94b394b7-62dd-4510-9fee-7f2a081da10d'], ['10785.49', '3.34', '7a004d1a-003b-4b3c-913c-b8e43bcf8701'], ['10787.08', '0.25', '4f367629-3fd2-44af-80bf-3f1059210637'], ['10787.55', '4.3', '4a1b4485-67da-4d38-ad20-524938bf240c'], ['10773.09', '0.01', 'f13c887a-550c-4213-a8f6-0b20bf7c1d7e'], ['10767.39', '0.09287302', '4adbdeb2-d054-4d63-87db-bbe7b08320fe'], ['10781.44', '1.444', 'ef3119ca-7d94-4bb4-b47f-45f81288fa78'], ['10615', '0.001', '380ed9d2-80d6-4491-91ad-d303ac7cf4fe'], ['10761.38', '0.09292489', 'f917d738-97c3-4d6f-a176-01a17128e3f8'], ['10780.23', '0.9111', '0f24cfdd-9d74-49ee-9822-0ca5d4d0d5fd'], ['10787.19', '0.2832', 'e2c448bd-0601-487e-b522-d61acb37c030'], ['10621.96', '0.00448237', 'f7f9da56-382c-4f12-8fb8-ef2bc17ae5af'], ['10791.03', '3.1', '15222e4c-59dd-479a-bc53-8c83ff1567ca'], ['10781.25', '0.3', 'a681ccdb-a747-4a5a-bd2c-38a6aae13844'], ['10622.66', '0.01971546', 'a872f3c4-e31b-4e9e-ae11-5b31e880a973'], ['10788.8', '0.1', 'ef5ae8fb-ddd6-4ea2-8684-05508bafcdbf'], ['10596.86', '0.01974991', 'de577bcb-f39b-4edb-8a42-bcc57366a811'], ['10792.35', '3.1', '642537c6-d66f-4bcc-8a00-6ee2ad422b27'], ['10764.94', '0.0719737', '35407c0a-26be-49b0-9fc2-1a4c56deaeff'], ['10587.84', '0.01976264', 'cc665080-f5a8-423a-a1f2-5266993a6d57'], ['10772.18', '1.19622548', '0285ae40-a18d-4f42-9e1a-585b3c977d09'], ['10756.26', '1.27048023', 'aa021fe2-5eb8-473d-9a9f-85679075867c'], ['10754.73', '0.95484888', '8209b54c-2718-4a4f-ae6d-045dce1ac4b8'], ['10673.79', '0.0196313', '86c48ebe-a2fb-4140-bb88-4c164f514001'], ['10785.17', '0.00545306', 'eca75b6b-1553-47cb-9878-3ecf05599bf0'], ['10623.64', '0.01971521', '08da860b-cabb-4123-8027-9802a8080d57'], ['10626.84', '0.01970841', '737f3591-d886-4895-bf2a-064c5392f8bf'], ['10755.97', '0.00111168', 'c3162dfe-3d99-45ee-a0b6-9e7833162cdc'], ['10668.9', '8.37', 'cf6826ca-d5b2-4d8d-84d6-48d5e424a652'], ['10772.19', '0.232079', '4ecf1052-74de-4572-aabc-5bfe1b85c632'], ['10582.85', '0.01977307', 'b0f3e2ba-23e1-49a7-b4e5-081df97df2fa'], ['10771', '1.27187794', '0e42a2e3-ff18-4660-8e66-2c57d7d17d8b'], ['10783.51', '1.1520305', 'd91e930d-9796-4826-a13f-ade9790b38d9'], ['10577.49', '0.01972735', '81c56831-ae85-4c0c-8bf2-f16f97254e75'], ['10779.76', '7.632', 'd01c5ff4-c2f0-44ac-8604-4196e27fc2bb'], ['10761.52', '24.728', '657bb671-d955-4f25-b91a-1bfb4a61190c'], ['10766.3', '0.10744999', '6af9dc20-2343-4649-994e-da85a86690f1'], ['10596.18', '0.00449191', '099a8c01-7d85-4420-8c76-b1a520951e97'], ['10786.8', '2.5', '981dc640-abca-41bf-a7be-ba8d654b3480'], ['10783.99', '0.27819', '142c00a7-de77-4c12-ae99-7d2e35629769'], ['10764.38', '0.1194', 'c8642773-29ef-4574-8730-af675daaf9d3'], ['10788.01', '0.9131', 'e7581427-e9a5-4de4-a51b-6b69c6ebb47a'], ['10723.24', '0.03902283', '8fe59485-8724-44c5-81ec-ae7ced9be584'], ['10785.17', '0.00182639', '349ecc26-21a8-4d4b-880b-3faa49f8e7a9'], ['10675.65', '0.05888622', 'a3c951e7-b3ea-40a2-89d0-c5549cde4c43'], ['10789.62', '0.27620805', '81f030eb-ab66-466f-8d3c-2466671a55f7'], ['10752.14', '0.04650235', '73ef9ac3-15cc-420e-a726-640e541ca9e0'], ['10781.12', '1.50952384', 'f9ffcb30-32a7-4d20-ba2b-3821549b956c'], ['10790.35', '0.01345822', '21dd930a-e507-4a27-b30e-9b947dd6bb8c'], ['10623.48', '0.01966487', '5557ad04-bd61-4b63-a982-22a2ff1faace'], ['10756.26', '0.98086025', '42a4625a-6c34-434f-964b-768169c47805'], ['10768.56', '1.05808773', '0a39b574-84e0-476f-98df-375e85a4f876'], ['10723.05', '0.03763595', '93461fe8-3025-4ce4-8ad0-8865e93b3565'], ['10787.79', '4.24', '91e2d259-fa05-4bfb-a34e-c35dbda4fc63'], ['10790.07', '0.2', 'df21a9d1-bf62-42f5-8b75-b25d0a85aaa4'], ['10789.32', '0.5', '882b598a-1aac-405b-88d2-a652d6393e85'], ['10756.05', '0.05155', '3dfe0c4c-363e-4593-bb5b-f72baec2219b'], ['10766.4', '0.14360081', '19282df4-7545-4738-b62c-93cd3d022279'], ['10773.1', '0.01876556', '9dc29eb6-5073-4216-b968-d9df42c916c3'], ['10783.56', '7.972', '142c1ab4-712b-46a8-aaf1-3a4692b703d3'], ['10756.69', '0.02630503', '3a69f3fa-71c3-4c34-8fe4-f1be996836cc'], ['10767.27', '1.02581655', '7401582a-7361-4101-8f2f-8d869ee43030'], ['10793', '2', '8871aea3-f344-4b73-829c-509fbbde35e3'], ['10770.26', '0.00368545', '1ec706c6-179f-4037-996b-7cc002633ef0'], ['10790.18', '0.1829', 'd5180194-e2a8-4413-8914-76c46f461c3d'], ['10678.03', '23.6', 'e3e73fee-8628-4758-85c4-b62827d92b1f'], ['10644.2', '0.00895935', '94999007-d32b-4dee-8fb0-2cadd95c917a'], ['10741.29', '0.07284999', '827dce74-6f3b-43bb-a55b-b911d78b25ee'], ['10723.24', '0.03910951', 'b8f925bf-e9c4-42c2-a0ca-191450d35825'], ['10694.5', '23.45', 'c91b5179-2a2d-4715-b0b8-6565896315f9'], ['10786.7', '0.46', '966b27ae-cbb8-4c96-9254-7360cdfc143a'], ['10707.54', '24.9', '21251a57-3ebc-4f23-a3b3-88323ebc2210'], ['10777.47', '1.0765', 'e6bfd0ae-46af-48c2-aae9-7c3969431f31'], ['10772.3', '0.02601892', '9872c0ea-764b-4521-a273-ef4543e80fd7'], ['10596.86', '0.01969715', '1adace6e-3d6a-45e9-931e-58df41c2ff2a'], ['10723.28', '23.6', 'b852809f-b588-4c4a-9235-fe445144ff2e'], ['10772.2', '0.01889379', '9655e87e-70dd-48c7-9df2-23cea705d64f'], ['10750.18', '0.04629238', '7417161d-bc22-45b9-8a25-ad78957db4cb'], ['10790.82', '0.501', '975388db-5dbd-4dbe-9d40-b4949902cecd'], ['10791.06', '0.5', '4b90fe46-315a-4e58-9e2c-87221275e6f2']]\n"
     ]
    },
    {
     "name": "stderr",
     "output_type": "stream",
     "text": [
      "INFO:root:bids_length_equal: False\n",
      "INFO:root:asks_length_equal: False\n"
     ]
    }
   ],
   "source": [
    "run_tests(final_clob,updated_clob)"
   ]
  },
  {
   "cell_type": "code",
   "execution_count": 12,
   "id": "b9c81287",
   "metadata": {},
   "outputs": [
    {
     "name": "stderr",
     "output_type": "stream",
     "text": [
      "INFO:root:bids_length_equal: True\n",
      "INFO:root:asks_length_equal: True\n"
     ]
    }
   ],
   "source": [
    "run_tests(final_clob,updated_clob)"
   ]
  },
  {
   "cell_type": "code",
   "execution_count": 13,
   "id": "8eb172fc",
   "metadata": {},
   "outputs": [
    {
     "name": "stdout",
     "output_type": "stream",
     "text": [
      "[{'type': 'open', 'side': 'buy', 'product_id': 'BTC-USD', 'time': '2020-10-06T00:14:28.127788Z', 'sequence': 16713045832, 'price': '10788.93', 'order_id': '4c53de3f-b8e4-4538-9efb-11d324615719', 'remaining_size': '3.1'}, {'type': 'received', 'side': 'buy', 'product_id': 'BTC-USD', 'time': '2020-10-06T00:14:28.127788Z', 'sequence': 16713045831, 'order_id': '4c53de3f-b8e4-4538-9efb-11d324615719', 'order_type': 'limit', 'size': '3.1', 'price': '10788.93', 'client_oid': '20201006-0000-0000-0002-000000003995'}]\n"
     ]
    }
   ],
   "source": [
    "missing_order_messages = clob_difference_test_messages_debug(final_clob['bids'],updated_clob['bids'],messages_data_filtered)\n",
    "print(missing_order_messages[0])"
   ]
  },
  {
   "cell_type": "code",
   "execution_count": 14,
   "id": "3f098460",
   "metadata": {},
   "outputs": [
    {
     "name": "stdout",
     "output_type": "stream",
     "text": [
      "{'type': 'open', 'side': 'buy', 'product_id': 'BTC-USD', 'time': '2020-10-06T00:14:28.127788Z', 'sequence': 16713045832, 'price': '10788.93', 'order_id': '4c53de3f-b8e4-4538-9efb-11d324615719', 'remaining_size': '3.1'}\n",
      "{'type': 'received', 'side': 'buy', 'product_id': 'BTC-USD', 'time': '2020-10-06T00:14:28.127788Z', 'sequence': 16713045831, 'order_id': '4c53de3f-b8e4-4538-9efb-11d324615719', 'order_type': 'limit', 'size': '3.1', 'price': '10788.93', 'client_oid': '20201006-0000-0000-0002-000000003995'}\n"
     ]
    }
   ],
   "source": [
    "for order_message in missing_order_messages[0]:\n",
    "    print (order_message)"
   ]
  },
  {
   "cell_type": "code",
   "execution_count": null,
   "id": "268792c7",
   "metadata": {},
   "outputs": [],
   "source": [
    "16713045831\n",
    "16713045832"
   ]
  },
  {
   "cell_type": "code",
   "execution_count": 15,
   "id": "f4d8a903",
   "metadata": {},
   "outputs": [
    {
     "data": {
      "text/plain": [
       "[['10788.93', '3.1', '4c53de3f-b8e4-4538-9efb-11d324615719']]"
      ]
     },
     "execution_count": 15,
     "metadata": {},
     "output_type": "execute_result"
    }
   ],
   "source": [
    "orders_from_order_id(updated_clob['bids'],'4c53de3f-b8e4-4538-9efb-11d324615719')\n"
   ]
  },
  {
   "cell_type": "code",
   "execution_count": 16,
   "id": "268da692",
   "metadata": {},
   "outputs": [
    {
     "data": {
      "text/plain": [
       "[['10788.93', '2.80522372', '4c53de3f-b8e4-4538-9efb-11d324615719']]"
      ]
     },
     "execution_count": 16,
     "metadata": {},
     "output_type": "execute_result"
    }
   ],
   "source": [
    "orders_from_order_id(final_clob['bids'],'4c53de3f-b8e4-4538-9efb-11d324615719')\n"
   ]
  },
  {
   "cell_type": "code",
   "execution_count": 19,
   "id": "395bd3d9",
   "metadata": {},
   "outputs": [
    {
     "data": {
      "text/plain": [
       "[{'type': 'match',\n",
       "  'side': 'buy',\n",
       "  'product_id': 'BTC-USD',\n",
       "  'time': '2020-10-06T00:14:28.196746Z',\n",
       "  'sequence': 16713045873,\n",
       "  'trade_id': 105018264,\n",
       "  'maker_order_id': '4c53de3f-b8e4-4538-9efb-11d324615719',\n",
       "  'taker_order_id': '89b45d96-99a8-445e-880b-8e1be67fd662',\n",
       "  'size': '0.01608628',\n",
       "  'price': '10788.93'},\n",
       " {'type': 'match',\n",
       "  'side': 'buy',\n",
       "  'product_id': 'BTC-USD',\n",
       "  'time': '2020-10-06T00:14:28.420307Z',\n",
       "  'sequence': 16713045977,\n",
       "  'trade_id': 105018266,\n",
       "  'maker_order_id': '4c53de3f-b8e4-4538-9efb-11d324615719',\n",
       "  'taker_order_id': '77ac1ba2-dc82-4325-b499-b6e67a8210da',\n",
       "  'size': '0.11753',\n",
       "  'price': '10788.93'},\n",
       " {'type': 'match',\n",
       "  'side': 'buy',\n",
       "  'product_id': 'BTC-USD',\n",
       "  'time': '2020-10-06T00:14:28.400747Z',\n",
       "  'sequence': 16713045963,\n",
       "  'trade_id': 105018265,\n",
       "  'maker_order_id': '4c53de3f-b8e4-4538-9efb-11d324615719',\n",
       "  'taker_order_id': '5efffd65-cb3f-4206-af9e-0fe4de4e5b71',\n",
       "  'size': '0.13953',\n",
       "  'price': '10788.93'},\n",
       " {'type': 'match',\n",
       "  'side': 'buy',\n",
       "  'product_id': 'BTC-USD',\n",
       "  'time': '2020-10-06T00:14:28.699617Z',\n",
       "  'sequence': 16713046076,\n",
       "  'trade_id': 105018267,\n",
       "  'maker_order_id': '4c53de3f-b8e4-4538-9efb-11d324615719',\n",
       "  'taker_order_id': '2ca4189c-8956-4f41-99d8-f025e15281ac',\n",
       "  'size': '0.02163',\n",
       "  'price': '10788.93'}]"
      ]
     },
     "execution_count": 19,
     "metadata": {},
     "output_type": "execute_result"
    }
   ],
   "source": [
    "match_messages_from_order_id(messages_data_filtered,'4c53de3f-b8e4-4538-9efb-11d324615719')"
   ]
  },
  {
   "cell_type": "markdown",
   "id": "736b7cd5",
   "metadata": {},
   "source": [
    "New Tests"
   ]
  },
  {
   "cell_type": "code",
   "execution_count": 40,
   "id": "eebb2bd2",
   "metadata": {},
   "outputs": [
    {
     "ename": "IndexError",
     "evalue": "list index out of range",
     "output_type": "error",
     "traceback": [
      "\u001b[0;31m---------------------------------------------------------------------------\u001b[0m",
      "\u001b[0;31mIndexError\u001b[0m                                Traceback (most recent call last)",
      "\u001b[0;32m/var/folders/00/xr38cr8n7xd8vz3n5831t62m0000gn/T/ipykernel_1072/3876204898.py\u001b[0m in \u001b[0;36m<module>\u001b[0;34m\u001b[0m\n\u001b[1;32m      1\u001b[0m \u001b[0mmissing_order_messages\u001b[0m \u001b[0;34m=\u001b[0m \u001b[0mclob_difference_test_messages_debug\u001b[0m\u001b[0;34m(\u001b[0m\u001b[0mupdated_clob\u001b[0m\u001b[0;34m[\u001b[0m\u001b[0;34m'bids'\u001b[0m\u001b[0;34m]\u001b[0m\u001b[0;34m,\u001b[0m\u001b[0mfinal_clob\u001b[0m\u001b[0;34m[\u001b[0m\u001b[0;34m'bids'\u001b[0m\u001b[0;34m]\u001b[0m\u001b[0;34m,\u001b[0m\u001b[0mmessages_data_filtered\u001b[0m\u001b[0;34m)\u001b[0m\u001b[0;34m\u001b[0m\u001b[0;34m\u001b[0m\u001b[0m\n\u001b[0;32m----> 2\u001b[0;31m \u001b[0;32mfor\u001b[0m \u001b[0morder_message\u001b[0m \u001b[0;32min\u001b[0m \u001b[0mmissing_order_messages\u001b[0m\u001b[0;34m[\u001b[0m\u001b[0;36m0\u001b[0m\u001b[0;34m]\u001b[0m\u001b[0;34m:\u001b[0m\u001b[0;34m\u001b[0m\u001b[0;34m\u001b[0m\u001b[0m\n\u001b[0m\u001b[1;32m      3\u001b[0m     \u001b[0mprint\u001b[0m \u001b[0;34m(\u001b[0m\u001b[0morder_message\u001b[0m\u001b[0;34m)\u001b[0m\u001b[0;34m\u001b[0m\u001b[0;34m\u001b[0m\u001b[0m\n",
      "\u001b[0;31mIndexError\u001b[0m: list index out of range"
     ]
    }
   ],
   "source": [
    "missing_order_messages = clob_difference_test_messages_debug(updated_clob['bids'],final_clob['bids'],messages_data_filtered)\n",
    "for order_message in missing_order_messages[0]:\n",
    "    print (order_message)"
   ]
  },
  {
   "cell_type": "code",
   "execution_count": 34,
   "id": "e9149336",
   "metadata": {},
   "outputs": [
    {
     "data": {
      "text/plain": [
       "[{'type': 'match',\n",
       "  'side': 'sell',\n",
       "  'product_id': 'BTC-USD',\n",
       "  'time': '2020-10-06T00:15:06.689787Z',\n",
       "  'sequence': 16713057477,\n",
       "  'trade_id': 105018305,\n",
       "  'maker_order_id': '8871aea3-f344-4b73-829c-509fbbde35e3',\n",
       "  'taker_order_id': '2da1a6fe-96b6-4a77-bfdb-e3588f5c484d',\n",
       "  'size': '0.04061911',\n",
       "  'price': '10793'}]"
      ]
     },
     "execution_count": 34,
     "metadata": {},
     "output_type": "execute_result"
    }
   ],
   "source": [
    "match_messages_from_order_id(messages_data_filtered,'8871aea3-f344-4b73-829c-509fbbde35e3')"
   ]
  },
  {
   "cell_type": "code",
   "execution_count": 36,
   "id": "c9c9cff0",
   "metadata": {},
   "outputs": [
    {
     "data": {
      "text/plain": [
       "[['10793', '1.95938089', '8871aea3-f344-4b73-829c-509fbbde35e3']]"
      ]
     },
     "execution_count": 36,
     "metadata": {},
     "output_type": "execute_result"
    }
   ],
   "source": [
    "orders_from_order_id(updated_clob['asks'],'8871aea3-f344-4b73-829c-509fbbde35e3')\n"
   ]
  },
  {
   "cell_type": "code",
   "execution_count": 37,
   "id": "fd142770",
   "metadata": {},
   "outputs": [
    {
     "data": {
      "text/plain": [
       "[['10793', '1.95938089', '8871aea3-f344-4b73-829c-509fbbde35e3']]"
      ]
     },
     "execution_count": 37,
     "metadata": {},
     "output_type": "execute_result"
    }
   ],
   "source": [
    "orders_from_order_id(final_clob['asks'],'8871aea3-f344-4b73-829c-509fbbde35e3')\n"
   ]
  },
  {
   "cell_type": "code",
   "execution_count": null,
   "id": "a600ca77",
   "metadata": {},
   "outputs": [],
   "source": []
  }
 ],
 "metadata": {
  "kernelspec": {
   "display_name": "Python 3 (ipykernel)",
   "language": "python",
   "name": "python3"
  },
  "language_info": {
   "codemirror_mode": {
    "name": "ipython",
    "version": 3
   },
   "file_extension": ".py",
   "mimetype": "text/x-python",
   "name": "python",
   "nbconvert_exporter": "python",
   "pygments_lexer": "ipython3",
   "version": "3.10.0"
  }
 },
 "nbformat": 4,
 "nbformat_minor": 5
}
